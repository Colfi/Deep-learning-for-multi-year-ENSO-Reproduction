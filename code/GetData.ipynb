{
 "cells": [
  {
   "cell_type": "code",
   "execution_count": 1,
   "metadata": {},
   "outputs": [],
   "source": [
    "import xarray as xr\n",
    "import matplotlib.pyplot as plt\n",
    "import numpy as np"
   ]
  },
  {
   "cell_type": "code",
   "execution_count": 2,
   "metadata": {},
   "outputs": [],
   "source": [
    "con_ssh1 = xr.open_dataset(\"/mnt/e/CMIP5_ForM_noTauu/OBS/zos1/Con_SSH.nc\")[\n",
    "    'ssh'].loc[\"1871-01\":\"2019-12\"]\n",
    "hadisst = xr.open_dataset(\"/mnt/e/CMIP5_ForM_noTauu/OBS/tos1/HadISST_sst_2x2.nc\")[\n",
    "    'sst'].loc[\"1871-01\":\"2019-12\"]\n",
    "nino34 = xr.open_dataset(\"/mnt/e/CMIP5_ForM_noTauu/OBS/nino341/HadISST_sst_2x2.nc\")[\n",
    "    'sst'].loc[\"1871-01\":\"2019-12\", 0,0]\n"
   ]
  },
  {
   "cell_type": "code",
   "execution_count": 3,
   "metadata": {},
   "outputs": [
    {
     "data": {
      "text/plain": [
       "((1788, 24, 72), (1788, 24, 72), (1788,))"
      ]
     },
     "execution_count": 3,
     "metadata": {},
     "output_type": "execute_result"
    }
   ],
   "source": [
    "con_ssh1.shape,hadisst.shape,nino34.shape"
   ]
  },
  {
   "cell_type": "code",
   "execution_count": 5,
   "metadata": {},
   "outputs": [
    {
     "data": {
      "text/plain": [
       "((480, 24, 72), (480,), (480, 24, 72))"
      ]
     },
     "execution_count": 5,
     "metadata": {},
     "output_type": "execute_result"
    }
   ],
   "source": [
    "var_ssh = np.array(con_ssh1.loc[\"1980\":])\n",
    "var_sst = np.array(hadisst.loc[\"1980\":])\n",
    "var_nino = np.array(nino34.loc[\"1980\":])\n",
    "np.save(\"../data/var_data/sst\",var_sst)\n",
    "np.save(\"../data/var_data/ssh\",var_ssh)\n",
    "np.save(\"../data/var_data/nino34\",var_nino)\n",
    "var_ssh.shape,var_nino.shape,var_sst.shape\n"
   ]
  },
  {
   "cell_type": "code",
   "execution_count": 6,
   "metadata": {},
   "outputs": [
    {
     "data": {
      "text/plain": [
       "((1308, 24, 72), (1308,), (1308, 24, 72))"
      ]
     },
     "execution_count": 6,
     "metadata": {},
     "output_type": "execute_result"
    }
   ],
   "source": [
    "train_ssh = np.array(con_ssh1.loc[:\"1979\"])\n",
    "train_sst = np.array(hadisst.loc[:\"1979\"])\n",
    "train_nino = np.array(nino34.loc[:\"1979\"])\n",
    "np.save(\"../data/train_data/obs/sst\", train_sst)\n",
    "np.save(\"../data/train_data/obs/ssh\", train_ssh)\n",
    "np.save(\"../data/train_data/obs/nino34\", train_nino)\n",
    "train_ssh.shape, train_nino.shape, train_sst.shape\n"
   ]
  },
  {
   "cell_type": "code",
   "execution_count": 10,
   "metadata": {},
   "outputs": [
    {
     "name": "stdout",
     "output_type": "stream",
     "text": [
      "========================================\n",
      "ACCESS-CM2 : tos_Omon_ACCESS-CM2_historical_r1i1p1f1_185001-201412.nc1\n",
      "(1980,) (1980, 24, 72) (1980, 24, 72)\n",
      "success mkdir ../data/train_data/ACCESS-CM2\n",
      "========================================\n",
      "CanESM2 : tos_Omon_CanESM2_historical_r1i1p1_185001-200512_reg.nc\n",
      "(1872,) (1872, 24, 72) (1872, 24, 72)\n",
      "success mkdir ../data/train_data/CanESM2\n",
      "========================================\n",
      "CCSM4 : tos_Omon_CCSM4_historical_r1i1p1_185001-200512_reg.nc\n",
      "(1872,) (1872, 24, 72) (1872, 24, 72)\n",
      "success mkdir ../data/train_data/CCSM4\n",
      "========================================\n",
      "CESM1-CAM5 : tos_Omon_CESM1-CAM5_historical_r1i1p1_185001-200512_reg.nc\n",
      "(1872,) (1872, 24, 72) (1872, 24, 72)\n",
      "success mkdir ../data/train_data/CESM1-CAM5\n",
      "========================================\n",
      "CESM2 : tos_Omon_CESM2_historical_r1i1p1f1_185001-201412.nc1\n",
      "(1980,) (1980, 24, 72) (1980, 24, 72)\n",
      "success mkdir ../data/train_data/CESM2\n",
      "========================================\n",
      "CMCC-CESM : tos_Omon_CMCC-CESM_historical_r1i1p1_185001-200512_reg.nc\n",
      "(1872,) (1872, 24, 72) (1872, 24, 72)\n",
      "success mkdir ../data/train_data/CMCC-CESM\n",
      "========================================\n",
      "CMCC-CMS : tos_Omon_CMCC-CMS_historical_r1i1p1_185001-200512_reg.nc\n",
      "(1872,) (1872, 24, 72) (1872, 24, 72)\n",
      "success mkdir ../data/train_data/CMCC-CMS\n",
      "========================================\n",
      "CMCC-CM : tos_Omon_CMCC-CM_historical_r1i1p1_185001-200512_reg.nc\n",
      "(1872,) (1872, 24, 72) (1872, 24, 72)\n",
      "success mkdir ../data/train_data/CMCC-CM\n",
      "========================================\n",
      "CNRM-CM5 : tos_Omon_CNRM-CM5_historical_r1i1p1_185001-200512_reg.nc\n",
      "(1872,) (1872, 24, 72) (1872, 24, 72)\n",
      "success mkdir ../data/train_data/CNRM-CM5\n",
      "========================================\n",
      "CNRM-CM6-1 : tos_Omon_CNRM-CM6-1_historical_r1i1p1f1_185001-201412.nc1\n",
      "(1980,) (1980, 24, 72) (1980, 24, 72)\n",
      "success mkdir ../data/train_data/CNRM-CM6-1\n",
      "========================================\n",
      "CSIRO-Mk3-6-0 : tos_Omon_CSIRO-Mk3-6-0_historical_r1i1p1_185001-200512_reg.nc\n",
      "(1872,) (1872, 24, 72) (1872, 24, 72)\n",
      "success mkdir ../data/train_data/CSIRO-Mk3-6-0\n",
      "========================================\n",
      "FGOALS-f3-L : tos_Omon_FGOALS-f3-L_historical_r1i1p1f1_185001-201412.nc1\n",
      "(1980,) (1980, 24, 72) (1980, 24, 72)\n",
      "success mkdir ../data/train_data/FGOALS-f3-L\n",
      "========================================\n",
      "FGOALS-g3 : tos_Omon_FGOALS-g3_historical_r1i1p1f1_185001-201412.nc1\n",
      "(1980,) (1980, 24, 72) (1980, 24, 72)\n",
      "success mkdir ../data/train_data/FGOALS-g3\n",
      "========================================\n",
      "FIO-ESM : tos_Omon_FIO-ESM_historical_r1i1p1_185001-200512_reg.nc\n",
      "(1872,) (1872, 24, 72) (1872, 24, 72)\n",
      "success mkdir ../data/train_data/FIO-ESM\n",
      "========================================\n",
      "GFDL-CM4 : tos_Omon_GFDL-CM4_historical_r1i1p1f1_185001-201412.nc1\n",
      "(1980,) (1980, 24, 72) (1980, 24, 72)\n",
      "success mkdir ../data/train_data/GFDL-CM4\n",
      "========================================\n",
      "GFDL-ESM4 : tos_Omon_GFDL-ESM4_historical_r1i1p1f1_185001-201412.nc1\n",
      "(1980,) (1980, 24, 72) (1980, 24, 72)\n",
      "success mkdir ../data/train_data/GFDL-ESM4\n",
      "========================================\n",
      "MIROC5 : tos_Omon_MIROC5_historical_r1i1p1_185001-200512_reg.nc\n",
      "(1956,) (1956, 24, 72) (1956, 24, 72)\n",
      "success mkdir ../data/train_data/MIROC5\n",
      "========================================\n",
      "MPI-ESM-LR : tos_Omon_MPI-ESM-LR_historical_r1i1p1_185001-200512_reg.nc\n",
      "(1872,) (1872, 24, 72) (1872, 24, 72)\n",
      "success mkdir ../data/train_data/MPI-ESM-LR\n",
      "========================================\n",
      "MRI-CGCM3 : tos_Omon_MRI-CGCM3_historical_r1i1p1_185001-200512_reg.nc\n",
      "(1872,) (1872, 24, 72) (1872, 24, 72)\n",
      "success mkdir ../data/train_data/MRI-CGCM3\n",
      "========================================\n",
      "MRI-ESM2-0 : tos_Omon_MRI-ESM2-0_historical_r1i1p1f1_185001-201412.nc1\n",
      "(1980,) (1980, 24, 72) (1980, 24, 72)\n",
      "success mkdir ../data/train_data/MRI-ESM2-0\n",
      "========================================\n",
      "NorESM1-ME : tos_Omon_NorESM1-ME_historical_r1i1p1_185001-200512_reg.nc\n",
      "(1872,) (1872, 24, 72) (1872, 24, 72)\n",
      "success mkdir ../data/train_data/NorESM1-ME\n",
      "========================================\n",
      "NorESM1-M : tos_Omon_NorESM1-M_historical_r1i1p1_185001-200512_reg.nc\n",
      "(1872,) (1872, 24, 72) (1872, 24, 72)\n",
      "success mkdir ../data/train_data/NorESM1-M\n"
     ]
    }
   ],
   "source": [
    "import os\n",
    "nino34_path=\"/mnt/e/CMIP5_ForM_noTauu/nino341\"\n",
    "tos_path = \"/mnt/e/CMIP5_ForM_noTauu/tos1\"\n",
    "zos_path = \"/mnt/e/CMIP5_ForM_noTauu/zos1\"\n",
    "data_ls = os.listdir(nino34_path)\n",
    "\n",
    "for fname in data_ls:\n",
    "    print(\"=\"*40)\n",
    "    model_name = fname.split(\"_\")[2]\n",
    "    print(model_name,\":\",fname)\n",
    "    fname1 = list(fname)\n",
    "    fname1[0] = \"z\"\n",
    "    fname1 = \"\".join(fname1)\n",
    "    zos_loc = zos_path + \"/\" + fname1\n",
    "    tos_loc = tos_path + \"/\" + fname\n",
    "    nino_loc = nino34_path + \"/\" + fname\n",
    "    nino34 = xr.open_dataset(nino_loc)['tos'][:,0,0]\n",
    "    zos = xr.open_dataset(zos_loc)['zos']\n",
    "    tos = xr.open_dataset(tos_loc)['tos']\n",
    "    train_sst = np.array(tos)\n",
    "    train_ssh = np.array(zos)\n",
    "    train_nino = np.array(nino34)\n",
    "    print(nino34.shape,zos.shape,tos.shape)\n",
    "    os.mkdir('../data/train_data/%s'%model_name)\n",
    "    print(\"success mkdir\", '../data/train_data/%s'%model_name)\n",
    "    np.save(\"../data/train_data/%s/sst\"%model_name, train_sst)\n",
    "    np.save(\"../data/train_data/%s/ssh\"%model_name, train_ssh)\n",
    "    np.save(\"../data/train_data/%s/nino34\"%model_name, train_nino)\n",
    "\n"
   ]
  },
  {
   "cell_type": "code",
   "execution_count": null,
   "metadata": {},
   "outputs": [],
   "source": []
  }
 ],
 "metadata": {
  "kernelspec": {
   "display_name": "Python 3.9.12 ('base')",
   "language": "python",
   "name": "python3"
  },
  "language_info": {
   "codemirror_mode": {
    "name": "ipython",
    "version": 3
   },
   "file_extension": ".py",
   "mimetype": "text/x-python",
   "name": "python",
   "nbconvert_exporter": "python",
   "pygments_lexer": "ipython3",
   "version": "3.9.12"
  },
  "orig_nbformat": 4,
  "vscode": {
   "interpreter": {
    "hash": "d9650bf475f579d5a6ad4ca47bb77593c01ffca6cdcbae5b254376cbd497ff8d"
   }
  }
 },
 "nbformat": 4,
 "nbformat_minor": 2
}
