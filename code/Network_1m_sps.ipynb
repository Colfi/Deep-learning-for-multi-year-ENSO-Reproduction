{
 "cells": [
  {
   "cell_type": "code",
   "execution_count": 2,
   "metadata": {
    "collapsed": true
   },
   "outputs": [
    {
     "name": "stdout",
     "output_type": "stream",
     "text": [
      "2.6.0\n"
     ]
    }
   ],
   "source": [
    "import tensorflow as tf\n",
    "import numpy as np\n",
    "import matplotlib.pyplot as plt\n",
    "import load_data as ld\n",
    "from tensorflow import keras\n",
    "from sklearn.utils import shuffle\n",
    "from tensorflow.keras import datasets, layers, models\n",
    "\n",
    "print(tf.__version__)"
   ]
  },
  {
   "cell_type": "code",
   "execution_count": 3,
   "metadata": {
    "collapsed": false,
    "pycharm": {
     "name": "#%%\n"
    }
   },
   "outputs": [
    {
     "name": "stdout",
     "output_type": "stream",
     "text": [
      "../data/train_data/ACCESS-CM2\n",
      "ACCESS-CM2 Ini_data_shape: (1978, 24, 72) (1978, 24, 72) (1978,)\n",
      "../data/train_data/CanESM2\n",
      "CanESM2 Ini_data_shape: (1870, 24, 72) (1870, 24, 72) (1870,)\n",
      "../data/train_data/CCSM4\n",
      "CCSM4 Ini_data_shape: (1870, 24, 72) (1870, 24, 72) (1870,)\n",
      "../data/train_data/CESM1-CAM5\n",
      "CESM1-CAM5 Ini_data_shape: (1870, 24, 72) (1870, 24, 72) (1870,)\n",
      "../data/train_data/CESM2\n",
      "CESM2 Ini_data_shape: (1978, 24, 72) (1978, 24, 72) (1978,)\n",
      "../data/train_data/CMCC-CESM\n",
      "CMCC-CESM Ini_data_shape: (1870, 24, 72) (1870, 24, 72) (1870,)\n",
      "../data/train_data/CMCC-CM\n",
      "CMCC-CM Ini_data_shape: (1870, 24, 72) (1870, 24, 72) (1870,)\n",
      "../data/train_data/CMCC-CMS\n",
      "CMCC-CMS Ini_data_shape: (1870, 24, 72) (1870, 24, 72) (1870,)\n",
      "../data/train_data/CNRM-CM5\n",
      "CNRM-CM5 Ini_data_shape: (1870, 24, 72) (1870, 24, 72) (1870,)\n",
      "../data/train_data/CNRM-CM6-1\n",
      "CNRM-CM6-1 Ini_data_shape: (1978, 24, 72) (1978, 24, 72) (1978,)\n",
      "../data/train_data/CSIRO-Mk3-6-0\n",
      "CSIRO-Mk3-6-0 Ini_data_shape: (1870, 24, 72) (1870, 24, 72) (1870,)\n",
      "../data/train_data/FGOALS-f3-L\n",
      "FGOALS-f3-L Ini_data_shape: (1978, 24, 72) (1978, 24, 72) (1978,)\n",
      "../data/train_data/FGOALS-g3\n",
      "FGOALS-g3 Ini_data_shape: (1978, 24, 72) (1978, 24, 72) (1978,)\n",
      "../data/train_data/FIO-ESM\n",
      "FIO-ESM Ini_data_shape: (1870, 24, 72) (1870, 24, 72) (1870,)\n",
      "../data/train_data/GFDL-CM4\n",
      "GFDL-CM4 Ini_data_shape: (1978, 24, 72) (1978, 24, 72) (1978,)\n",
      "../data/train_data/GFDL-ESM4\n",
      "GFDL-ESM4 Ini_data_shape: (1978, 24, 72) (1978, 24, 72) (1978,)\n",
      "../data/train_data/MIROC5\n",
      "MIROC5 Ini_data_shape: (1954, 24, 72) (1954, 24, 72) (1954,)\n",
      "../data/train_data/MPI-ESM-LR\n",
      "MPI-ESM-LR Ini_data_shape: (1870, 24, 72) (1870, 24, 72) (1870,)\n",
      "../data/train_data/MRI-CGCM3\n",
      "MRI-CGCM3 Ini_data_shape: (1870, 24, 72) (1870, 24, 72) (1870,)\n",
      "../data/train_data/MRI-ESM2-0\n",
      "MRI-ESM2-0 Ini_data_shape: (1978, 24, 72) (1978, 24, 72) (1978,)\n",
      "../data/train_data/NorESM1-M\n",
      "NorESM1-M Ini_data_shape: (1870, 24, 72) (1870, 24, 72) (1870,)\n",
      "../data/train_data/NorESM1-ME\n",
      "NorESM1-ME Ini_data_shape: (1870, 24, 72) (1870, 24, 72) (1870,)\n",
      "../data/train_data/obs\n",
      "obs Ini_data_shape: (1307, 24, 72) (1307, 24, 72) (1307,)\n",
      "================================================================================\n",
      "All Data Shape: (3574, 24, 72, 3) (3574, 24, 72, 3) (3574,)\n",
      "================================================================================\n"
     ]
    },
    {
     "data": {
      "text/plain": [
       "((3574, 24, 72, 3), (3574, 24, 72, 3), (3574,))"
      ]
     },
     "execution_count": 3,
     "metadata": {},
     "output_type": "execute_result"
    }
   ],
   "source": [
    "sst_train, ssh_train, nino34_train = ld.load_train(\"../data/train_data\", op_len=13, with_obs=True,out_put_one=True,load0_func=ld.load_spmonth)\n",
    "ssh_train.shape,ssh_train.shape,nino34_train.shape"
   ]
  },
  {
   "cell_type": "code",
   "execution_count": 4,
   "metadata": {
    "collapsed": false,
    "pycharm": {
     "name": "#%%\n"
    }
   },
   "outputs": [
    {
     "name": "stdout",
     "output_type": "stream",
     "text": [
      "../data/var_data\n",
      "var_data Ini_data_shape: (479, 24, 72) (479, 24, 72) (479,)\n"
     ]
    },
    {
     "data": {
      "text/plain": [
       "((38, 24, 72, 3), (38, 24, 72, 3), (38,))"
      ]
     },
     "execution_count": 4,
     "metadata": {},
     "output_type": "execute_result"
    }
   ],
   "source": [
    "sst_var, ssh_var, nino34_var = ld.load_spmonth(\"../data/var_data\", op_len=13,out_put_one=True,label=\"Var\")\n",
    "sst_var.shape,ssh_var.shape,nino34_var.shape"
   ]
  },
  {
   "cell_type": "code",
   "execution_count": 5,
   "metadata": {
    "collapsed": false,
    "pycharm": {
     "name": "#%%\n"
    }
   },
   "outputs": [
    {
     "name": "stdout",
     "output_type": "stream",
     "text": [
      "0.52518463 0.03429232 1.1402133\n"
     ]
    }
   ],
   "source": [
    "sst_std = sst_train.std()\n",
    "ssh_std = ssh_train.std()\n",
    "nino34_std = nino34_train.std()\n",
    "print(sst_std, ssh_std, nino34_std)\n",
    "sst_train, ssh_train, nino34_train = sst_train / sst_std, ssh_train / ssh_std, nino34_train / nino34_std\n",
    "# obs_sst_train, obs_ssh_train, obs_nino34_train = obs_sst_train / sst_std, obs_ssh_train / ssh_std, obs_nino34_train / nino34_std\n",
    "sst_var, ssh_var, nino34_var = sst_var / sst_std, ssh_var / ssh_std, nino34_var / nino34_std"
   ]
  },
  {
   "cell_type": "code",
   "execution_count": 6,
   "metadata": {
    "collapsed": false,
    "pycharm": {
     "name": "#%%\n"
    }
   },
   "outputs": [
    {
     "data": {
      "text/plain": [
       "((3574, 24, 72, 6), (38, 24, 72, 6))"
      ]
     },
     "execution_count": 6,
     "metadata": {},
     "output_type": "execute_result"
    }
   ],
   "source": [
    "ip_var = np.concatenate([sst_var, ssh_var], axis=3)\n",
    "ip_train = np.concatenate([sst_train, ssh_train], axis=3)\n",
    "# obs_ip_train = np.concatenate([obs_sst_train, obs_ssh_train], axis=3)\n",
    "# ip_train.shape, ip_var.shape , obs_sst_train.shape\n",
    "ip_train.shape, ip_var.shape"
   ]
  },
  {
   "cell_type": "code",
   "execution_count": 7,
   "metadata": {
    "collapsed": false,
    "pycharm": {
     "name": "#%%\n"
    }
   },
   "outputs": [
    {
     "data": {
      "text/plain": [
       "False"
      ]
     },
     "execution_count": 7,
     "metadata": {},
     "output_type": "execute_result"
    }
   ],
   "source": [
    "True in np.isnan(ip_train)"
   ]
  },
  {
   "cell_type": "code",
   "execution_count": 8,
   "metadata": {
    "collapsed": false,
    "pycharm": {
     "name": "#%%\n"
    }
   },
   "outputs": [
    {
     "data": {
      "text/plain": [
       "(3574,)"
      ]
     },
     "execution_count": 8,
     "metadata": {},
     "output_type": "execute_result"
    }
   ],
   "source": [
    "nino34_train.shape"
   ]
  },
  {
   "cell_type": "code",
   "execution_count": 9,
   "metadata": {
    "collapsed": false,
    "pycharm": {
     "name": "#%%\n"
    }
   },
   "outputs": [],
   "source": [
    "# shuffle\n",
    "ip_train, nino34_train = shuffle(ip_train, nino34_train)\n",
    "# obs_sst_train , obs_nino34_train = shuffle(obs_sst_train , obs_nino34_train)"
   ]
  },
  {
   "cell_type": "code",
   "execution_count": 10,
   "metadata": {
    "collapsed": false,
    "pycharm": {
     "name": "#%%\n"
    }
   },
   "outputs": [
    {
     "name": "stdout",
     "output_type": "stream",
     "text": [
      "Model: \"ENSO\"\n",
      "_________________________________________________________________\n",
      "Layer (type)                 Output Shape              Param #   \n",
      "=================================================================\n",
      "conv2d (Conv2D)              (None, 24, 72, 30)        5790      \n",
      "_________________________________________________________________\n",
      "average_pooling2d (AveragePo (None, 12, 36, 30)        0         \n",
      "_________________________________________________________________\n",
      "conv2d_1 (Conv2D)            (None, 12, 36, 30)        28830     \n",
      "_________________________________________________________________\n",
      "average_pooling2d_1 (Average (None, 6, 18, 30)         0         \n",
      "_________________________________________________________________\n",
      "conv2d_2 (Conv2D)            (None, 6, 18, 30)         28830     \n",
      "_________________________________________________________________\n",
      "flatten (Flatten)            (None, 3240)              0         \n",
      "_________________________________________________________________\n",
      "dense (Dense)                (None, 50)                162050    \n",
      "_________________________________________________________________\n",
      "dense_1 (Dense)              (None, 1)                 51        \n",
      "=================================================================\n",
      "Total params: 225,551\n",
      "Trainable params: 225,551\n",
      "Non-trainable params: 0\n",
      "_________________________________________________________________\n"
     ]
    }
   ],
   "source": [
    "# model = models.Sequential(name=\"ENSO\")\n",
    "# act_fun = 'relu'\n",
    "# model.add(layers.Conv2D(30, (4, 8), activation=act_fun, padding=\"same\", input_shape=ip_train.shape[1:]))\n",
    "# model.add(layers.MaxPool2D((2, 2)))\n",
    "# model.add(layers.Conv2D(30, (4, 8), activation=act_fun, padding=\"same\"))\n",
    "# model.add(layers.MaxPool2D((2, 2)))\n",
    "# model.add(layers.Conv2D(30, (4, 8), activation=act_fun, padding=\"same\"))\n",
    "# model.add(layers.Flatten())\n",
    "# model.add(layers.Dense(50,activation=\"tanh\",use_bias=True))\n",
    "# model.add(layers.Dense(1,use_bias=True))\n",
    "# model.summary()\n",
    "model = models.Sequential(name=\"ENSO\")\n",
    "act_fun = 'tanh'\n",
    "model.add(layers.Conv2D(30, (4, 8), activation=act_fun, padding=\"same\", input_shape=ip_train.shape[1:]))\n",
    "model.add(layers.AveragePooling2D((2, 2)))\n",
    "model.add(layers.Conv2D(30, (4, 8), activation=act_fun, padding=\"same\"))\n",
    "model.add(layers.AveragePooling2D((2, 2)))\n",
    "model.add(layers.Conv2D(30, (4, 8), activation=act_fun, padding=\"same\"))\n",
    "model.add(layers.Flatten())\n",
    "model.add(layers.Dense(50,activation=\"tanh\",use_bias=True))\n",
    "model.add(layers.Dense(1,use_bias=True))\n",
    "model.summary()"
   ]
  },
  {
   "cell_type": "code",
   "execution_count": 11,
   "metadata": {
    "collapsed": false,
    "pycharm": {
     "name": "#%%\n"
    }
   },
   "outputs": [
    {
     "name": "stdout",
     "output_type": "stream",
     "text": [
      "Epoch 1/15\n",
      "3574/3574 [==============================] - 19s 4ms/step - loss: 1.6452 - val_loss: 1.7063\n",
      "Epoch 2/15\n",
      "3574/3574 [==============================] - 16s 4ms/step - loss: 1.5936 - val_loss: 1.0754\n",
      "Epoch 3/15\n",
      "3574/3574 [==============================] - 16s 4ms/step - loss: 1.6088 - val_loss: 1.2900\n",
      "Epoch 4/15\n",
      "3574/3574 [==============================] - 16s 4ms/step - loss: 1.6087 - val_loss: 1.4308\n",
      "Epoch 5/15\n",
      "3574/3574 [==============================] - 17s 5ms/step - loss: 1.5992 - val_loss: 0.8790\n",
      "Epoch 6/15\n",
      "3574/3574 [==============================] - 16s 4ms/step - loss: 1.5288 - val_loss: 2.0877\n",
      "Epoch 7/15\n",
      "3574/3574 [==============================] - 16s 4ms/step - loss: 1.5402 - val_loss: 1.2168\n",
      "Epoch 8/15\n",
      "3574/3574 [==============================] - 16s 4ms/step - loss: 1.5414 - val_loss: 3.0494\n",
      "Epoch 9/15\n",
      "3574/3574 [==============================] - 16s 4ms/step - loss: 0.8671 - val_loss: 0.8298\n",
      "Epoch 10/15\n",
      "3574/3574 [==============================] - 16s 4ms/step - loss: 0.7913 - val_loss: 0.7589\n",
      "Epoch 11/15\n",
      "3574/3574 [==============================] - 16s 4ms/step - loss: 0.7761 - val_loss: 1.1527\n",
      "Epoch 12/15\n",
      "3574/3574 [==============================] - 16s 4ms/step - loss: 0.7591 - val_loss: 0.7613\n",
      "Epoch 13/15\n",
      "3574/3574 [==============================] - 16s 4ms/step - loss: 0.7482 - val_loss: 0.8171\n",
      "Epoch 14/15\n",
      "3574/3574 [==============================] - 16s 4ms/step - loss: 0.6991 - val_loss: 0.8486\n",
      "Epoch 15/15\n",
      "3574/3574 [==============================] - 16s 4ms/step - loss: 0.6920 - val_loss: 0.8328\n",
      "INFO:tensorflow:Assets written to: ../data/model/exp2_pretrain_op1_sp2\\assets\n"
     ]
    }
   ],
   "source": [
    "# Pre-train with Model Data\n",
    "early_stopping = keras.callbacks.EarlyStopping(monitor=\"val_loss\", patience=6)\n",
    "reduce_lr = keras.callbacks.ReduceLROnPlateau(monitor=\"val_loss\", patience=3)\n",
    "model.compile(optimizer=keras.optimizers.SGD(), loss=\"mse\")\n",
    "hist = model.fit(ip_train, nino34_train, validation_data=(ip_var, nino34_var), epochs=15, batch_size=1,callbacks=[early_stopping, reduce_lr])\n",
    "model.save(\"../data/model/exp2_pretrain_op1_sp2\")"
   ]
  },
  {
   "cell_type": "code",
   "execution_count": 12,
   "metadata": {
    "collapsed": false,
    "pycharm": {
     "name": "#%%\n"
    }
   },
   "outputs": [
    {
     "data": {
      "image/png": "[encoded data removed]",
      "text/plain": [
       "<Figure size 432x288 with 1 Axes>"
      ]
     },
     "metadata": {
      "needs_background": "light"
     },
     "output_type": "display_data"
    }
   ],
   "source": [
    "def visualize_loss(history, title):\n",
    "    loss = history.history[\"loss\"]\n",
    "    val_loss = history.history[\"val_loss\"]\n",
    "    epochs = range(len(loss))\n",
    "    plt.figure()\n",
    "    plt.plot(epochs, loss, \"b\", label=\"Training loss\")\n",
    "    plt.plot(epochs, val_loss, \"r\", label=\"Validation loss\")\n",
    "    plt.title(title)\n",
    "    plt.xlabel(\"Epochs\")\n",
    "    plt.ylabel(\"Loss\")\n",
    "    plt.legend()\n",
    "    # plt.savefig('../pic/train_prog.png', dpi=300)\n",
    "    plt.show()\n",
    "\n",
    "\n",
    "visualize_loss(hist, \"Training and Validation Loss\")"
   ]
  },
  {
   "cell_type": "code",
   "execution_count": 13,
   "metadata": {
    "collapsed": false,
    "pycharm": {
     "name": "#%%\n"
    }
   },
   "outputs": [
    {
     "data": {
      "text/plain": [
       "((38, 1), (38,))"
      ]
     },
     "execution_count": 13,
     "metadata": {},
     "output_type": "execute_result"
    }
   ],
   "source": [
    "pre_nino = model.predict(ip_var)\n",
    "pre_nino.shape, nino34_var.shape"
   ]
  },
  {
   "cell_type": "code",
   "execution_count": 14,
   "metadata": {
    "collapsed": false,
    "pycharm": {
     "name": "#%%\n"
    }
   },
   "outputs": [
    {
     "data": {
      "text/plain": [
       "0.3583820628446635"
      ]
     },
     "execution_count": 14,
     "metadata": {},
     "output_type": "execute_result"
    }
   ],
   "source": [
    "import scipy.stats as sts\n",
    "\n",
    "# corr_ls = []\n",
    "# for i in range(17):\n",
    "corr, _ = sts.pearsonr(pre_nino[:,0], nino34_var)\n",
    "corr\n",
    "#     corr_ls.append(corr)\n",
    "# plt.plot(np.arange(1, 18), corr_ls, \"o-\", color=\"blue\")\n",
    "# plt.xlabel(\"lead time (month)\")\n",
    "# plt.ylabel(\"correlation skill\")\n",
    "# plt.axhline(0.5, color=\"k\", linestyle=\":\")\n",
    "# plt.savefig(\"../pic/corr_skill.png\")"
   ]
  },
  {
   "cell_type": "code",
   "execution_count": 15,
   "metadata": {
    "collapsed": false,
    "pycharm": {
     "name": "#%%\n"
    }
   },
   "outputs": [
    {
     "data": {
      "text/plain": [
       "[<matplotlib.lines.Line2D at 0x2146c2e9508>]"
      ]
     },
     "execution_count": 15,
     "metadata": {},
     "output_type": "execute_result"
    },
    {
     "data": {
      "image/png": "[encoded data removed]",
      "text/plain": [
       "<Figure size 432x288 with 1 Axes>"
      ]
     },
     "metadata": {
      "needs_background": "light"
     },
     "output_type": "display_data"
    }
   ],
   "source": [
    "time = np.arange(1981,2019)\n",
    "plt.plot(np.arange(1981,2019),nino34_var)\n",
    "plt.plot(np.arange(1981,2019),pre_nino[:,0])\n"
   ]
  },
  {
   "cell_type": "code",
   "execution_count": 17,
   "metadata": {
    "collapsed": false,
    "pycharm": {
     "name": "#%%\n"
    }
   },
   "outputs": [
    {
     "data": {
      "text/plain": [
       "(1988, -0.92711747, -1.4127866)"
      ]
     },
     "execution_count": 17,
     "metadata": {},
     "output_type": "execute_result"
    }
   ],
   "source": [
    "idx = 7\n",
    "np.arange(1981,2019)[idx],pre_nino[:,0][idx],nino34_var[idx]"
   ]
  },
  {
   "cell_type": "code",
   "execution_count": 18,
   "metadata": {
    "collapsed": false,
    "pycharm": {
     "name": "#%%\n"
    }
   },
   "outputs": [],
   "source": [
    "np.save(\"../data/1988_lanina_ip_sp\",ip_var)"
   ]
  },
  {
   "cell_type": "code",
   "execution_count": null,
   "metadata": {
    "collapsed": false,
    "pycharm": {
     "name": "#%%\n"
    }
   },
   "outputs": [],
   "source": [
    "# np.save(\"../data/1997_elnino_ip_sp\",ip_var)"
   ]
  }
 ],
 "metadata": {
  "kernelspec": {
   "display_name": "Python 3.7.4 ('base')",
   "language": "python",
   "name": "python3"
  },
  "language_info": {
   "codemirror_mode": {
    "name": "ipython",
    "version": 3
   },
   "file_extension": ".py",
   "mimetype": "text/x-python",
   "name": "python",
   "nbconvert_exporter": "python",
   "pygments_lexer": "ipython3",
   "version": "3.7.4"
  },
  "vscode": {
   "interpreter": {
    "hash": "548d5d72f13655f56c40510a65fe4f545f8876d9a564f15949f15a94806d6179"
   }
  }
 },
 "nbformat": 4,
 "nbformat_minor": 0
}
