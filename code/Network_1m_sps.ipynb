{
 "cells": [
  {
   "cell_type": "code",
   "execution_count": 1,
   "metadata": {
    "collapsed": true
   },
   "outputs": [
    {
     "name": "stdout",
     "output_type": "stream",
     "text": [
      "2.6.0\n"
     ]
    }
   ],
   "source": [
    "import tensorflow as tf\n",
    "import numpy as np\n",
    "import matplotlib.pyplot as plt\n",
    "import load_data as ld\n",
    "from tensorflow import keras\n",
    "from sklearn.utils import shuffle\n",
    "from tensorflow.keras import datasets, layers, models\n",
    "\n",
    "print(tf.__version__)"
   ]
  },
  {
   "cell_type": "code",
   "execution_count": 2,
   "outputs": [
    {
     "name": "stdout",
     "output_type": "stream",
     "text": [
      "../data/train_data/ACCESS-CM2\n",
      "ACCESS-CM2 Ini_data_shape: (1978, 24, 72) (1978, 24, 72) (1978,)\n",
      "../data/train_data/CanESM2\n",
      "CanESM2 Ini_data_shape: (1870, 24, 72) (1870, 24, 72) (1870,)\n",
      "../data/train_data/CCSM4\n",
      "CCSM4 Ini_data_shape: (1870, 24, 72) (1870, 24, 72) (1870,)\n",
      "../data/train_data/CESM1-CAM5\n",
      "CESM1-CAM5 Ini_data_shape: (1870, 24, 72) (1870, 24, 72) (1870,)\n",
      "../data/train_data/CESM2\n",
      "CESM2 Ini_data_shape: (1978, 24, 72) (1978, 24, 72) (1978,)\n",
      "../data/train_data/CMCC-CESM\n",
      "CMCC-CESM Ini_data_shape: (1870, 24, 72) (1870, 24, 72) (1870,)\n",
      "../data/train_data/CMCC-CM\n",
      "CMCC-CM Ini_data_shape: (1870, 24, 72) (1870, 24, 72) (1870,)\n",
      "../data/train_data/CMCC-CMS\n",
      "CMCC-CMS Ini_data_shape: (1870, 24, 72) (1870, 24, 72) (1870,)\n",
      "../data/train_data/CNRM-CM5\n",
      "CNRM-CM5 Ini_data_shape: (1870, 24, 72) (1870, 24, 72) (1870,)\n",
      "../data/train_data/CNRM-CM6-1\n",
      "CNRM-CM6-1 Ini_data_shape: (1978, 24, 72) (1978, 24, 72) (1978,)\n",
      "../data/train_data/CSIRO-Mk3-6-0\n",
      "CSIRO-Mk3-6-0 Ini_data_shape: (1870, 24, 72) (1870, 24, 72) (1870,)\n",
      "../data/train_data/FGOALS-f3-L\n",
      "FGOALS-f3-L Ini_data_shape: (1978, 24, 72) (1978, 24, 72) (1978,)\n",
      "../data/train_data/FGOALS-g3\n",
      "FGOALS-g3 Ini_data_shape: (1978, 24, 72) (1978, 24, 72) (1978,)\n",
      "../data/train_data/FIO-ESM\n",
      "FIO-ESM Ini_data_shape: (1870, 24, 72) (1870, 24, 72) (1870,)\n",
      "../data/train_data/GFDL-CM4\n",
      "GFDL-CM4 Ini_data_shape: (1978, 24, 72) (1978, 24, 72) (1978,)\n",
      "../data/train_data/GFDL-ESM4\n",
      "GFDL-ESM4 Ini_data_shape: (1978, 24, 72) (1978, 24, 72) (1978,)\n",
      "../data/train_data/MIROC5\n",
      "MIROC5 Ini_data_shape: (1954, 24, 72) (1954, 24, 72) (1954,)\n",
      "../data/train_data/MPI-ESM-LR\n",
      "MPI-ESM-LR Ini_data_shape: (1870, 24, 72) (1870, 24, 72) (1870,)\n",
      "../data/train_data/MRI-CGCM3\n",
      "MRI-CGCM3 Ini_data_shape: (1870, 24, 72) (1870, 24, 72) (1870,)\n",
      "../data/train_data/MRI-ESM2-0\n",
      "MRI-ESM2-0 Ini_data_shape: (1978, 24, 72) (1978, 24, 72) (1978,)\n",
      "../data/train_data/NorESM1-M\n",
      "NorESM1-M Ini_data_shape: (1870, 24, 72) (1870, 24, 72) (1870,)\n",
      "../data/train_data/NorESM1-ME\n",
      "NorESM1-ME Ini_data_shape: (1870, 24, 72) (1870, 24, 72) (1870,)\n",
      "../data/train_data/obs\n",
      "obs Ini_data_shape: (1307, 24, 72) (1307, 24, 72) (1307,)\n",
      "================================================================================\n",
      "All Data Shape: (3574, 24, 72, 3) (3574, 24, 72, 3) (3574,)\n",
      "================================================================================\n"
     ]
    },
    {
     "data": {
      "text/plain": "((3574, 24, 72, 3), (3574, 24, 72, 3), (3574,))"
     },
     "execution_count": 2,
     "metadata": {},
     "output_type": "execute_result"
    }
   ],
   "source": [
    "sst_train, ssh_train, nino34_train = ld.load_train(\"../data/train_data\", op_len=13, with_obs=True,out_put_one=True,load0_func=ld.load_spmonth)\n",
    "ssh_train.shape,ssh_train.shape,nino34_train.shape"
   ],
   "metadata": {
    "collapsed": false,
    "pycharm": {
     "name": "#%%\n"
    }
   }
  },
  {
   "cell_type": "code",
   "execution_count": 3,
   "outputs": [
    {
     "name": "stdout",
     "output_type": "stream",
     "text": [
      "../data/var_data\n",
      "var_data Ini_data_shape: (479, 24, 72) (479, 24, 72) (479,)\n"
     ]
    },
    {
     "data": {
      "text/plain": "((38, 24, 72, 3), (38, 24, 72, 3), (38,))"
     },
     "execution_count": 3,
     "metadata": {},
     "output_type": "execute_result"
    }
   ],
   "source": [
    "sst_var, ssh_var, nino34_var = ld.load_spmonth(\"../data/var_data\", op_len=13,out_put_one=True,label=\"Var\")\n",
    "sst_var.shape,ssh_var.shape,nino34_var.shape"
   ],
   "metadata": {
    "collapsed": false,
    "pycharm": {
     "name": "#%%\n"
    }
   }
  },
  {
   "cell_type": "code",
   "execution_count": 4,
   "outputs": [
    {
     "name": "stdout",
     "output_type": "stream",
     "text": [
      "0.52518463 0.03429232 1.1402133\n"
     ]
    }
   ],
   "source": [
    "sst_std = sst_train.std()\n",
    "ssh_std = ssh_train.std()\n",
    "nino34_std = nino34_train.std()\n",
    "print(sst_std, ssh_std, nino34_std)\n",
    "sst_train, ssh_train, nino34_train = sst_train / sst_std, ssh_train / ssh_std, nino34_train / nino34_std\n",
    "# obs_sst_train, obs_ssh_train, obs_nino34_train = obs_sst_train / sst_std, obs_ssh_train / ssh_std, obs_nino34_train / nino34_std\n",
    "sst_var, ssh_var, nino34_var = sst_var / sst_std, ssh_var / ssh_std, nino34_var / nino34_std"
   ],
   "metadata": {
    "collapsed": false,
    "pycharm": {
     "name": "#%%\n"
    }
   }
  },
  {
   "cell_type": "code",
   "execution_count": 5,
   "outputs": [
    {
     "data": {
      "text/plain": "((3574, 24, 72, 6), (38, 24, 72, 6))"
     },
     "execution_count": 5,
     "metadata": {},
     "output_type": "execute_result"
    }
   ],
   "source": [
    "ip_var = np.concatenate([sst_var, ssh_var], axis=3)\n",
    "ip_train = np.concatenate([sst_train, ssh_train], axis=3)\n",
    "# obs_ip_train = np.concatenate([obs_sst_train, obs_ssh_train], axis=3)\n",
    "# ip_train.shape, ip_var.shape , obs_sst_train.shape\n",
    "ip_train.shape, ip_var.shape"
   ],
   "metadata": {
    "collapsed": false,
    "pycharm": {
     "name": "#%%\n"
    }
   }
  },
  {
   "cell_type": "code",
   "execution_count": 6,
   "outputs": [
    {
     "data": {
      "text/plain": "False"
     },
     "execution_count": 6,
     "metadata": {},
     "output_type": "execute_result"
    }
   ],
   "source": [
    "True in np.isnan(ip_train)"
   ],
   "metadata": {
    "collapsed": false,
    "pycharm": {
     "name": "#%%\n"
    }
   }
  },
  {
   "cell_type": "code",
   "execution_count": 7,
   "outputs": [
    {
     "data": {
      "text/plain": "(3574,)"
     },
     "execution_count": 7,
     "metadata": {},
     "output_type": "execute_result"
    }
   ],
   "source": [
    "nino34_train.shape"
   ],
   "metadata": {
    "collapsed": false,
    "pycharm": {
     "name": "#%%\n"
    }
   }
  },
  {
   "cell_type": "code",
   "execution_count": 8,
   "outputs": [],
   "source": [
    "# shuffle\n",
    "ip_train, nino34_train = shuffle(ip_train, nino34_train)\n",
    "# obs_sst_train , obs_nino34_train = shuffle(obs_sst_train , obs_nino34_train)"
   ],
   "metadata": {
    "collapsed": false,
    "pycharm": {
     "name": "#%%\n"
    }
   }
  },
  {
   "cell_type": "code",
   "execution_count": 19,
   "outputs": [
    {
     "name": "stdout",
     "output_type": "stream",
     "text": [
      "Model: \"ENSO\"\n",
      "_________________________________________________________________\n",
      "Layer (type)                 Output Shape              Param #   \n",
      "=================================================================\n",
      "conv2d_3 (Conv2D)            (None, 24, 72, 30)        5790      \n",
      "_________________________________________________________________\n",
      "max_pooling2d_2 (MaxPooling2 (None, 12, 36, 30)        0         \n",
      "_________________________________________________________________\n",
      "conv2d_4 (Conv2D)            (None, 12, 36, 30)        28830     \n",
      "_________________________________________________________________\n",
      "max_pooling2d_3 (MaxPooling2 (None, 6, 18, 30)         0         \n",
      "_________________________________________________________________\n",
      "conv2d_5 (Conv2D)            (None, 6, 18, 30)         28830     \n",
      "_________________________________________________________________\n",
      "flatten_1 (Flatten)          (None, 3240)              0         \n",
      "_________________________________________________________________\n",
      "dense_2 (Dense)              (None, 30)                97230     \n",
      "_________________________________________________________________\n",
      "dense_3 (Dense)              (None, 1)                 31        \n",
      "=================================================================\n",
      "Total params: 160,711\n",
      "Trainable params: 160,711\n",
      "Non-trainable params: 0\n",
      "_________________________________________________________________\n"
     ]
    }
   ],
   "source": [
    "model = models.Sequential(name=\"ENSO\")\n",
    "model.add(layers.Conv2D(30, (4, 8), activation=\"tanh\", padding=\"same\", input_shape=ip_train.shape[1:]))\n",
    "model.add(layers.MaxPool2D((2, 2)))\n",
    "model.add(layers.Conv2D(30, (4, 8), activation=\"tanh\", padding=\"same\"))\n",
    "model.add(layers.MaxPool2D((2, 2)))\n",
    "model.add(layers.Conv2D(30, (4, 8), activation=\"tanh\", padding=\"same\"))\n",
    "model.add(layers.Flatten())\n",
    "model.add(layers.Dense(30,activation=\"tanh\"))\n",
    "model.add(layers.Dense(1))\n",
    "model.summary()"
   ],
   "metadata": {
    "collapsed": false,
    "pycharm": {
     "name": "#%%\n"
    }
   }
  },
  {
   "cell_type": "code",
   "execution_count": 25,
   "outputs": [
    {
     "name": "stdout",
     "output_type": "stream",
     "text": [
      "Epoch 1/15\n",
      "3574/3574 [==============================] - 17s 5ms/step - loss: 1.0749 - val_loss: 0.9150\n",
      "Epoch 2/15\n",
      "3574/3574 [==============================] - 16s 5ms/step - loss: 1.0129 - val_loss: 1.0385\n",
      "Epoch 3/15\n",
      "3574/3574 [==============================] - 16s 5ms/step - loss: 1.0384 - val_loss: 1.0921\n",
      "Epoch 4/15\n",
      "3574/3574 [==============================] - 16s 5ms/step - loss: 1.1346 - val_loss: 1.1240\n",
      "Epoch 5/15\n",
      "3574/3574 [==============================] - 16s 5ms/step - loss: 0.7535 - val_loss: 0.6745\n",
      "Epoch 6/15\n",
      "3574/3574 [==============================] - 16s 5ms/step - loss: 0.7047 - val_loss: 0.7549\n",
      "Epoch 7/15\n",
      "3574/3574 [==============================] - 16s 5ms/step - loss: 0.6712 - val_loss: 0.6921\n",
      "Epoch 8/15\n",
      "3574/3574 [==============================] - 16s 5ms/step - loss: 0.6477 - val_loss: 0.5830\n",
      "Epoch 9/15\n",
      "3574/3574 [==============================] - 16s 5ms/step - loss: 0.6214 - val_loss: 0.6155\n",
      "Epoch 10/15\n",
      "3574/3574 [==============================] - 16s 5ms/step - loss: 0.6018 - val_loss: 0.6022\n",
      "Epoch 11/15\n",
      "3574/3574 [==============================] - 16s 4ms/step - loss: 0.5791 - val_loss: 0.6311\n",
      "Epoch 12/15\n",
      "3574/3574 [==============================] - 16s 4ms/step - loss: 0.5342 - val_loss: 0.6300\n",
      "Epoch 13/15\n",
      "3574/3574 [==============================] - 16s 4ms/step - loss: 0.5255 - val_loss: 0.6228\n",
      "Epoch 14/15\n",
      "3574/3574 [==============================] - 16s 4ms/step - loss: 0.5217 - val_loss: 0.6343\n",
      "INFO:tensorflow:Assets written to: ../data/model/exp1_pretrain_op1_sp\\assets\n"
     ]
    }
   ],
   "source": [
    "# Pre-train with Model Data\n",
    "early_stopping = keras.callbacks.EarlyStopping(monitor=\"val_loss\", patience=6)\n",
    "reduce_lr = keras.callbacks.ReduceLROnPlateau(monitor=\"val_loss\", patience=3)\n",
    "model.compile(optimizer=keras.optimizers.SGD(), loss=\"mse\")\n",
    "hist = model.fit(ip_train, nino34_train, validation_data=(ip_var, nino34_var), epochs=15, batch_size=1,callbacks=[early_stopping, reduce_lr])\n",
    "model.save(\"../data/model/exp1_pretrain_op1_sp\")"
   ],
   "metadata": {
    "collapsed": false,
    "pycharm": {
     "name": "#%%\n"
    }
   }
  },
  {
   "cell_type": "code",
   "execution_count": 26,
   "outputs": [
    {
     "data": {
      "text/plain": "<Figure size 432x288 with 1 Axes>",
      "image/png": "[encoded data removed]"
     },
     "metadata": {
      "needs_background": "light"
     },
     "output_type": "display_data"
    }
   ],
   "source": [
    "def visualize_loss(history, title):\n",
    "    loss = history.history[\"loss\"]\n",
    "    val_loss = history.history[\"val_loss\"]\n",
    "    epochs = range(len(loss))\n",
    "    plt.figure()\n",
    "    plt.plot(epochs, loss, \"b\", label=\"Training loss\")\n",
    "    plt.plot(epochs, val_loss, \"r\", label=\"Validation loss\")\n",
    "    plt.title(title)\n",
    "    plt.xlabel(\"Epochs\")\n",
    "    plt.ylabel(\"Loss\")\n",
    "    plt.legend()\n",
    "    # plt.savefig('../pic/train_prog.png', dpi=300)\n",
    "    plt.show()\n",
    "\n",
    "\n",
    "visualize_loss(hist, \"Training and Validation Loss\")"
   ],
   "metadata": {
    "collapsed": false,
    "pycharm": {
     "name": "#%%\n"
    }
   }
  },
  {
   "cell_type": "code",
   "execution_count": 27,
   "outputs": [
    {
     "data": {
      "text/plain": "((38, 1), (38,))"
     },
     "execution_count": 27,
     "metadata": {},
     "output_type": "execute_result"
    }
   ],
   "source": [
    "pre_nino = model.predict(ip_var)\n",
    "pre_nino.shape, nino34_var.shape"
   ],
   "metadata": {
    "collapsed": false,
    "pycharm": {
     "name": "#%%\n"
    }
   }
  },
  {
   "cell_type": "code",
   "execution_count": 28,
   "outputs": [
    {
     "data": {
      "text/plain": "0.5276905847782951"
     },
     "execution_count": 28,
     "metadata": {},
     "output_type": "execute_result"
    }
   ],
   "source": [
    "import scipy.stats as sts\n",
    "\n",
    "# corr_ls = []\n",
    "# for i in range(17):\n",
    "corr, _ = sts.pearsonr(pre_nino[:,0], nino34_var)\n",
    "corr\n",
    "#     corr_ls.append(corr)\n",
    "# plt.plot(np.arange(1, 18), corr_ls, \"o-\", color=\"blue\")\n",
    "# plt.xlabel(\"lead time (month)\")\n",
    "# plt.ylabel(\"correlation skill\")\n",
    "# plt.axhline(0.5, color=\"k\", linestyle=\":\")\n",
    "# plt.savefig(\"../pic/corr_skill.png\")"
   ],
   "metadata": {
    "collapsed": false,
    "pycharm": {
     "name": "#%%\n"
    }
   }
  },
  {
   "cell_type": "code",
   "execution_count": 31,
   "outputs": [
    {
     "data": {
      "text/plain": "[<matplotlib.lines.Line2D at 0x249574455c8>]"
     },
     "execution_count": 31,
     "metadata": {},
     "output_type": "execute_result"
    },
    {
     "data": {
      "text/plain": "<Figure size 432x288 with 1 Axes>",
      "image/png": "[encoded data removed]"
     },
     "metadata": {
      "needs_background": "light"
     },
     "output_type": "display_data"
    }
   ],
   "source": [
    "time = np.arange(1981,2019)\n",
    "plt.plot(np.arange(1981,2019),nino34_var)\n",
    "plt.plot(np.arange(1981,2019),pre_nino[:,0])\n"
   ],
   "metadata": {
    "collapsed": false,
    "pycharm": {
     "name": "#%%\n"
    }
   }
  },
  {
   "cell_type": "code",
   "execution_count": 35,
   "outputs": [
    {
     "data": {
      "text/plain": "(1988, -1.4238479, -1.4127866)"
     },
     "execution_count": 35,
     "metadata": {},
     "output_type": "execute_result"
    }
   ],
   "source": [
    "np.arange(1981,2019)[7],pre_nino[:,0][7],nino34_var[7]"
   ],
   "metadata": {
    "collapsed": false,
    "pycharm": {
     "name": "#%%\n"
    }
   }
  },
  {
   "cell_type": "code",
   "execution_count": 38,
   "outputs": [],
   "source": [
    "np.save(\"../data/1988_lanina_ip_sp\",ip_var)"
   ],
   "metadata": {
    "collapsed": false,
    "pycharm": {
     "name": "#%%\n"
    }
   }
  },
  {
   "cell_type": "code",
   "execution_count": null,
   "outputs": [],
   "source": [],
   "metadata": {
    "collapsed": false,
    "pycharm": {
     "name": "#%%\n"
    }
   }
  }
 ],
 "metadata": {
  "kernelspec": {
   "display_name": "Python 3",
   "language": "python",
   "name": "python3"
  },
  "language_info": {
   "codemirror_mode": {
    "name": "ipython",
    "version": 2
   },
   "file_extension": ".py",
   "mimetype": "text/x-python",
   "name": "python",
   "nbconvert_exporter": "python",
   "pygments_lexer": "ipython2",
   "version": "2.7.6"
  }
 },
 "nbformat": 4,
 "nbformat_minor": 0
}