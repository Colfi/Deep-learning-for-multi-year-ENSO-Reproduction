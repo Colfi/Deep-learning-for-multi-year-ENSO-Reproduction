{
 "cells": [
  {
   "cell_type": "code",
   "execution_count": 1,
   "metadata": {
    "collapsed": true
   },
   "outputs": [
    {
     "name": "stdout",
     "output_type": "stream",
     "text": [
      "2.6.0\n"
     ]
    }
   ],
   "source": [
    "import tensorflow as tf\n",
    "import numpy as np\n",
    "import matplotlib.pyplot as plt\n",
    "import load_data as ld\n",
    "from tensorflow import keras\n",
    "from sklearn.utils import shuffle\n",
    "from tensorflow.keras import datasets, layers, models\n",
    "\n",
    "print(tf.__version__)"
   ]
  },
  {
   "cell_type": "code",
   "execution_count": 2,
   "metadata": {
    "collapsed": false,
    "pycharm": {
     "name": "#%%\n"
    }
   },
   "outputs": [
    {
     "name": "stdout",
     "output_type": "stream",
     "text": [
      "ACCESS-CM2 data_shape: (1978, 24, 72) (1978, 24, 72) (1978,)\n",
      "CanESM2 data_shape: (1870, 24, 72) (1870, 24, 72) (1870,)\n",
      "CCSM4 data_shape: (1870, 24, 72) (1870, 24, 72) (1870,)\n",
      "CESM1-CAM5 data_shape: (1870, 24, 72) (1870, 24, 72) (1870,)\n",
      "CESM2 data_shape: (1978, 24, 72) (1978, 24, 72) (1978,)\n",
      "CMCC-CESM data_shape: (1870, 24, 72) (1870, 24, 72) (1870,)\n",
      "CMCC-CM data_shape: (1870, 24, 72) (1870, 24, 72) (1870,)\n",
      "CMCC-CMS data_shape: (1870, 24, 72) (1870, 24, 72) (1870,)\n",
      "CNRM-CM5 data_shape: (1870, 24, 72) (1870, 24, 72) (1870,)\n",
      "CNRM-CM6-1 data_shape: (1978, 24, 72) (1978, 24, 72) (1978,)\n",
      "CSIRO-Mk3-6-0 data_shape: (1870, 24, 72) (1870, 24, 72) (1870,)\n",
      "FGOALS-f3-L data_shape: (1978, 24, 72) (1978, 24, 72) (1978,)\n",
      "FGOALS-g3 data_shape: (1978, 24, 72) (1978, 24, 72) (1978,)\n",
      "FIO-ESM data_shape: (1870, 24, 72) (1870, 24, 72) (1870,)\n",
      "GFDL-CM4 data_shape: (1978, 24, 72) (1978, 24, 72) (1978,)\n",
      "GFDL-ESM4 data_shape: (1978, 24, 72) (1978, 24, 72) (1978,)\n",
      "MIROC5 data_shape: (1954, 24, 72) (1954, 24, 72) (1954,)\n",
      "MPI-ESM-LR data_shape: (1870, 24, 72) (1870, 24, 72) (1870,)\n",
      "MRI-CGCM3 data_shape: (1870, 24, 72) (1870, 24, 72) (1870,)\n",
      "MRI-ESM2-0 data_shape: (1978, 24, 72) (1978, 24, 72) (1978,)\n",
      "NorESM1-M data_shape: (1870, 24, 72) (1870, 24, 72) (1870,)\n",
      "NorESM1-ME data_shape: (1870, 24, 72) (1870, 24, 72) (1870,)\n",
      "obs data_shape: (1307, 24, 72) (1307, 24, 72) (1307,)\n",
      "================================================================================\n",
      "All Data Shape: (43050, 24, 72, 3) (43050, 24, 72, 3) (43050,)\n",
      "================================================================================\n"
     ]
    }
   ],
   "source": [
    "sst_train, ssh_train, nino34_train = ld.load_train(\"../data/train_data\", op_len=13, with_obs=True,out_put_one=True)\n",
    "# obs_sst_train, obs_ssh_train, obs_nino34_train = ld.load_var(\"../data/train_data/obs\", op_len=12,out_put_one=True)"
   ]
  },
  {
   "cell_type": "code",
   "execution_count": 3,
   "metadata": {
    "collapsed": false,
    "pycharm": {
     "name": "#%%\n"
    }
   },
   "outputs": [
    {
     "name": "stdout",
     "output_type": "stream",
     "text": [
      "var_data data_shape: (479, 24, 72) (479, 24, 72) (479,)\n"
     ]
    }
   ],
   "source": [
    "sst_var, ssh_var, nino34_var = ld.load_var(\"../data/var_data\", op_len=13,out_put_one=True)"
   ]
  },
  {
   "cell_type": "code",
   "execution_count": 4,
   "metadata": {
    "collapsed": false,
    "pycharm": {
     "name": "#%%\n"
    }
   },
   "outputs": [
    {
     "name": "stdout",
     "output_type": "stream",
     "text": [
      "0.6260731 0.033900216 0.9931435\n"
     ]
    }
   ],
   "source": [
    "# 标准化\n",
    "sst_std = sst_train.std()\n",
    "ssh_std = ssh_train.std()\n",
    "nino34_std = nino34_train.std()\n",
    "print(sst_std, ssh_std, nino34_std)\n",
    "sst_train, ssh_train, nino34_train = sst_train / sst_std, ssh_train / ssh_std, nino34_train / nino34_std\n",
    "# obs_sst_train, obs_ssh_train, obs_nino34_train = obs_sst_train / sst_std, obs_ssh_train / ssh_std, obs_nino34_train / nino34_std\n",
    "sst_var, ssh_var, nino34_var = sst_var / sst_std, ssh_var / ssh_std, nino34_var / nino34_std"
   ]
  },
  {
   "cell_type": "code",
   "execution_count": 5,
   "metadata": {
    "collapsed": false,
    "pycharm": {
     "name": "#%%\n"
    }
   },
   "outputs": [
    {
     "data": {
      "text/plain": "((43050, 24, 72, 6), (464, 24, 72, 6))"
     },
     "execution_count": 5,
     "metadata": {},
     "output_type": "execute_result"
    }
   ],
   "source": [
    "ip_var = np.concatenate([sst_var, ssh_var], axis=3)\n",
    "ip_train = np.concatenate([sst_train, ssh_train], axis=3)\n",
    "# obs_ip_train = np.concatenate([obs_sst_train, obs_ssh_train], axis=3)\n",
    "# ip_train.shape, ip_var.shape , obs_sst_train.shape\n",
    "ip_train.shape, ip_var.shape"
   ]
  },
  {
   "cell_type": "code",
   "execution_count": 6,
   "metadata": {
    "collapsed": false,
    "pycharm": {
     "name": "#%%\n"
    }
   },
   "outputs": [
    {
     "data": {
      "text/plain": "False"
     },
     "execution_count": 6,
     "metadata": {},
     "output_type": "execute_result"
    }
   ],
   "source": [
    "True in np.isnan(ip_train)"
   ]
  },
  {
   "cell_type": "code",
   "execution_count": 7,
   "metadata": {
    "collapsed": false,
    "pycharm": {
     "name": "#%%\n"
    }
   },
   "outputs": [
    {
     "data": {
      "text/plain": "(43050,)"
     },
     "execution_count": 7,
     "metadata": {},
     "output_type": "execute_result"
    }
   ],
   "source": [
    "nino34_train.shape"
   ]
  },
  {
   "cell_type": "code",
   "execution_count": 8,
   "metadata": {
    "collapsed": false,
    "pycharm": {
     "name": "#%%\n"
    }
   },
   "outputs": [],
   "source": [
    "# shuffle\n",
    "ip_train, nino34_train = shuffle(ip_train, nino34_train)\n",
    "# obs_sst_train , obs_nino34_train = shuffle(obs_sst_train , obs_nino34_train)"
   ]
  },
  {
   "cell_type": "code",
   "execution_count": 18,
   "metadata": {
    "collapsed": false,
    "pycharm": {
     "name": "#%%\n"
    }
   },
   "outputs": [
    {
     "name": "stdout",
     "output_type": "stream",
     "text": [
      "Model: \"ENSO\"\n",
      "_________________________________________________________________\n",
      "Layer (type)                 Output Shape              Param #   \n",
      "=================================================================\n",
      "conv2d_3 (Conv2D)            (None, 24, 72, 50)        9650      \n",
      "_________________________________________________________________\n",
      "max_pooling2d_2 (MaxPooling2 (None, 12, 36, 50)        0         \n",
      "_________________________________________________________________\n",
      "conv2d_4 (Conv2D)            (None, 12, 36, 50)        80050     \n",
      "_________________________________________________________________\n",
      "max_pooling2d_3 (MaxPooling2 (None, 6, 18, 50)         0         \n",
      "_________________________________________________________________\n",
      "conv2d_5 (Conv2D)            (None, 6, 18, 50)         80050     \n",
      "_________________________________________________________________\n",
      "flatten_1 (Flatten)          (None, 5400)              0         \n",
      "_________________________________________________________________\n",
      "dense_2 (Dense)              (None, 30)                162030    \n",
      "_________________________________________________________________\n",
      "dense_3 (Dense)              (None, 1)                 31        \n",
      "=================================================================\n",
      "Total params: 331,811\n",
      "Trainable params: 331,811\n",
      "Non-trainable params: 0\n",
      "_________________________________________________________________\n"
     ]
    }
   ],
   "source": [
    "model = models.Sequential(name=\"ENSO\")\n",
    "model.add(layers.Conv2D(50, (4, 8), activation=\"tanh\", padding=\"same\", input_shape=ip_train.shape[1:]))\n",
    "model.add(layers.MaxPool2D((2, 2)))\n",
    "model.add(layers.Conv2D(50, (4, 8), activation=\"tanh\", padding=\"same\"))\n",
    "model.add(layers.MaxPool2D((2, 2)))\n",
    "model.add(layers.Conv2D(50, (4, 8), activation=\"tanh\", padding=\"same\"))\n",
    "model.add(layers.Flatten())\n",
    "model.add(layers.Dense(30, activation=\"tanh\"))\n",
    "model.add(layers.Dense(1))\n",
    "model.summary()"
   ]
  },
  {
   "cell_type": "code",
   "execution_count": 19,
   "metadata": {
    "collapsed": false,
    "pycharm": {
     "name": "#%%\n"
    }
   },
   "outputs": [
    {
     "name": "stdout",
     "output_type": "stream",
     "text": [
      "Epoch 1/10\n",
      "108/108 [==============================] - 12s 96ms/step - loss: 1.1964 - val_loss: 0.5477\n",
      "Epoch 2/10\n",
      "108/108 [==============================] - 10s 96ms/step - loss: 0.6228 - val_loss: 0.5966\n",
      "Epoch 3/10\n",
      "108/108 [==============================] - 10s 96ms/step - loss: 0.5887 - val_loss: 0.6613\n",
      "Epoch 4/10\n",
      "108/108 [==============================] - 10s 96ms/step - loss: 0.5581 - val_loss: 0.7217\n",
      "Epoch 5/10\n",
      "108/108 [==============================] - 10s 96ms/step - loss: 0.5337 - val_loss: 0.6941\n",
      "Epoch 6/10\n",
      "108/108 [==============================] - 10s 96ms/step - loss: 0.5294 - val_loss: 0.7024\n",
      "Epoch 7/10\n",
      "108/108 [==============================] - 10s 96ms/step - loss: 0.5261 - val_loss: 0.6968\n",
      "INFO:tensorflow:Assets written to: ../data/model/exp1_pretrain_op1\\assets\n"
     ]
    }
   ],
   "source": [
    "# Pre-train with Model Data\n",
    "early_stopping = keras.callbacks.EarlyStopping(monitor=\"val_loss\", patience=6)\n",
    "reduce_lr = keras.callbacks.ReduceLROnPlateau(monitor=\"val_loss\", patience=3)\n",
    "model.compile(optimizer=keras.optimizers.SGD(), loss=\"mse\")\n",
    "hist = model.fit(ip_train, nino34_train, validation_data=(ip_var, nino34_var), epochs=10, batch_size=400,callbacks=[early_stopping, reduce_lr])\n",
    "model.save(\"../data/model/exp1_pretrain_op1\")"
   ]
  },
  {
   "cell_type": "code",
   "execution_count": 11,
   "metadata": {
    "collapsed": false,
    "pycharm": {
     "name": "#%%\n"
    }
   },
   "outputs": [],
   "source": [
    "# after training\n",
    "# model1 = keras.models.load_model(\"../data/model/exp1_pretrain_op1\")\n",
    "# model1.compile(optimizer=keras.optimizers.SGD(learning_rate=0.0001), loss=\"mse\")\n",
    "# hist1 = model1.fit(obs_ip_train, obs_nino34_train, validation_data=(ip_var, nino34_var), epochs=5, batch_size=500)\n",
    "# model.save(\"../data/model/exp1_aftertrain_op1\")"
   ]
  },
  {
   "cell_type": "code",
   "execution_count": 20,
   "metadata": {
    "collapsed": false,
    "pycharm": {
     "name": "#%%\n"
    }
   },
   "outputs": [
    {
     "data": {
      "text/plain": "<Figure size 432x288 with 1 Axes>",
      "image/png": "[encoded data removed]"
     },
     "metadata": {
      "needs_background": "light"
     },
     "output_type": "display_data"
    }
   ],
   "source": [
    "def visualize_loss(history, title):\n",
    "    loss = history.history[\"loss\"]\n",
    "    val_loss = history.history[\"val_loss\"]\n",
    "    epochs = range(len(loss))\n",
    "    plt.figure()\n",
    "    plt.plot(epochs, loss, \"b\", label=\"Training loss\")\n",
    "    plt.plot(epochs, val_loss, \"r\", label=\"Validation loss\")\n",
    "    plt.title(title)\n",
    "    plt.xlabel(\"Epochs\")\n",
    "    plt.ylabel(\"Loss\")\n",
    "    plt.legend()\n",
    "    # plt.savefig('../pic/train_prog.png', dpi=300)\n",
    "    plt.show()\n",
    "\n",
    "\n",
    "visualize_loss(hist, \"Training and Validation Loss\")"
   ]
  },
  {
   "cell_type": "code",
   "execution_count": 13,
   "metadata": {
    "collapsed": false,
    "pycharm": {
     "name": "#%%\n"
    }
   },
   "outputs": [],
   "source": [
    "# visualize_loss(hist1, \"Training and Validation Loss\")"
   ]
  },
  {
   "cell_type": "code",
   "execution_count": 21,
   "metadata": {
    "collapsed": false,
    "pycharm": {
     "name": "#%%\n"
    }
   },
   "outputs": [
    {
     "data": {
      "text/plain": "((464, 1), (464,))"
     },
     "execution_count": 21,
     "metadata": {},
     "output_type": "execute_result"
    }
   ],
   "source": [
    "pre_nino = model.predict(ip_var)\n",
    "pre_nino.shape, nino34_var.shape"
   ]
  },
  {
   "cell_type": "code",
   "execution_count": 22,
   "metadata": {
    "collapsed": false,
    "pycharm": {
     "name": "#%%\n"
    }
   },
   "outputs": [
    {
     "data": {
      "text/plain": "0.5086628662397942"
     },
     "execution_count": 22,
     "metadata": {},
     "output_type": "execute_result"
    }
   ],
   "source": [
    "import scipy.stats as sts\n",
    "\n",
    "# corr_ls = []\n",
    "# for i in range(17):\n",
    "corr, _ = sts.pearsonr(pre_nino[:,0], nino34_var)\n",
    "corr\n",
    "#     corr_ls.append(corr)\n",
    "# plt.plot(np.arange(1, 18), corr_ls, \"o-\", color=\"blue\")\n",
    "# plt.xlabel(\"lead time (month)\")\n",
    "# plt.ylabel(\"correlation skill\")\n",
    "# plt.axhline(0.5, color=\"k\", linestyle=\":\")\n",
    "# plt.savefig(\"../pic/corr_skill.png\")"
   ]
  },
  {
   "cell_type": "code",
   "execution_count": null,
   "metadata": {
    "collapsed": false,
    "pycharm": {
     "name": "#%%\n"
    }
   },
   "outputs": [],
   "source": []
  }
 ],
 "metadata": {
  "kernelspec": {
   "display_name": "Python 3.9.12 ('base')",
   "language": "python",
   "name": "python3"
  },
  "language_info": {
   "codemirror_mode": {
    "name": "ipython",
    "version": 2
   },
   "file_extension": ".py",
   "mimetype": "text/x-python",
   "name": "python",
   "nbconvert_exporter": "python",
   "pygments_lexer": "ipython2",
   "version": "3.9.12"
  },
  "vscode": {
   "interpreter": {
    "hash": "d9650bf475f579d5a6ad4ca47bb77593c01ffca6cdcbae5b254376cbd497ff8d"
   }
  }
 },
 "nbformat": 4,
 "nbformat_minor": 0
}