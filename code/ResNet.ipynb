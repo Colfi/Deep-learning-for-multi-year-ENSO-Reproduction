{
 "cells": [
  {
   "cell_type": "code",
   "execution_count": 1,
   "metadata": {},
   "outputs": [
    {
     "name": "stdout",
     "output_type": "stream",
     "text": [
      "2.6.0\n"
     ]
    }
   ],
   "source": [
    "import tensorflow as tf\n",
    "import numpy as np\n",
    "import matplotlib.pyplot as plt\n",
    "import load_data as ld\n",
    "from tensorflow import keras\n",
    "from sklearn.utils import shuffle\n",
    "from tensorflow.keras import datasets, layers, models\n",
    "\n",
    "print(tf.__version__)"
   ]
  },
  {
   "cell_type": "code",
   "execution_count": 2,
   "metadata": {},
   "outputs": [
    {
     "name": "stdout",
     "output_type": "stream",
     "text": [
      "ACCESS-CM2 data_shape: (1978, 24, 72) (1978, 24, 72) (1978,)\n",
      "CanESM2 data_shape: (1870, 24, 72) (1870, 24, 72) (1870,)\n",
      "CCSM4 data_shape: (1870, 24, 72) (1870, 24, 72) (1870,)\n",
      "CESM1-CAM5 data_shape: (1870, 24, 72) (1870, 24, 72) (1870,)\n",
      "CESM2 data_shape: (1978, 24, 72) (1978, 24, 72) (1978,)\n",
      "CMCC-CESM data_shape: (1870, 24, 72) (1870, 24, 72) (1870,)\n",
      "CMCC-CM data_shape: (1870, 24, 72) (1870, 24, 72) (1870,)\n",
      "CMCC-CMS data_shape: (1870, 24, 72) (1870, 24, 72) (1870,)\n",
      "CNRM-CM5 data_shape: (1870, 24, 72) (1870, 24, 72) (1870,)\n",
      "CNRM-CM6-1 data_shape: (1978, 24, 72) (1978, 24, 72) (1978,)\n",
      "CSIRO-Mk3-6-0 data_shape: (1870, 24, 72) (1870, 24, 72) (1870,)\n",
      "FGOALS-f3-L data_shape: (1978, 24, 72) (1978, 24, 72) (1978,)\n",
      "FGOALS-g3 data_shape: (1978, 24, 72) (1978, 24, 72) (1978,)\n",
      "FIO-ESM data_shape: (1870, 24, 72) (1870, 24, 72) (1870,)\n",
      "GFDL-CM4 data_shape: (1978, 24, 72) (1978, 24, 72) (1978,)\n",
      "GFDL-ESM4 data_shape: (1978, 24, 72) (1978, 24, 72) (1978,)\n",
      "MIROC5 data_shape: (1954, 24, 72) (1954, 24, 72) (1954,)\n",
      "MPI-ESM-LR data_shape: (1870, 24, 72) (1870, 24, 72) (1870,)\n",
      "MRI-CGCM3 data_shape: (1870, 24, 72) (1870, 24, 72) (1870,)\n",
      "MRI-ESM2-0 data_shape: (1978, 24, 72) (1978, 24, 72) (1978,)\n",
      "NorESM1-M data_shape: (1870, 24, 72) (1870, 24, 72) (1870,)\n",
      "NorESM1-ME data_shape: (1870, 24, 72) (1870, 24, 72) (1870,)\n",
      "obs data_shape: (1307, 24, 72) (1307, 24, 72) (1307,)\n",
      "================================================================================\n",
      "All Data Shape: (42958, 24, 72, 3) (42958, 24, 72, 3) (42958, 17)\n",
      "================================================================================\n"
     ]
    }
   ],
   "source": [
    "sst_train, ssh_train, nino34_train = ld.load_train(\"../data/train_data\", op_len=17, with_obs=True)\n",
    "# obs_sst_train, obs_ssh_train, obs_nino34_train = ld.load_var(\"../data/train_data/obs\", op_len=17)"
   ]
  },
  {
   "cell_type": "code",
   "execution_count": 3,
   "metadata": {},
   "outputs": [
    {
     "name": "stdout",
     "output_type": "stream",
     "text": [
      "var_data data_shape: (479, 24, 72) (479, 24, 72) (479,)\n"
     ]
    }
   ],
   "source": [
    "sst_var, ssh_var, nino34_var = ld.load_var(\"../data/var_data\", op_len=17)"
   ]
  },
  {
   "cell_type": "code",
   "execution_count": 4,
   "metadata": {},
   "outputs": [
    {
     "name": "stdout",
     "output_type": "stream",
     "text": [
      "0.62603676 0.03388189 0.99235904\n"
     ]
    }
   ],
   "source": [
    "# 标准化\n",
    "sst_std = sst_train.std()\n",
    "ssh_std = ssh_train.std()\n",
    "nino34_std = nino34_train.std()\n",
    "print(sst_std, ssh_std, nino34_std)\n",
    "sst_train, ssh_train, nino34_train = sst_train / sst_std, ssh_train / ssh_std, nino34_train / nino34_std\n",
    "# obs_sst_train, obs_ssh_train, obs_nino34_train = obs_sst_train / sst_std, obs_ssh_train / ssh_std, obs_nino34_train / nino34_std\n",
    "sst_var, ssh_var, nino34_var = sst_var / sst_std, ssh_var / ssh_std, nino34_var / nino34_std"
   ]
  },
  {
   "cell_type": "code",
   "execution_count": 5,
   "metadata": {},
   "outputs": [
    {
     "data": {
      "text/plain": [
       "((42958, 24, 72, 6), (42958, 17), (460, 24, 72, 6), (460, 17))"
      ]
     },
     "execution_count": 5,
     "metadata": {},
     "output_type": "execute_result"
    }
   ],
   "source": [
    "ip_var = np.concatenate([sst_var, ssh_var], axis=3)\n",
    "ip_train = np.concatenate([sst_train, ssh_train], axis=3)\n",
    "# obs_ip_train = np.concatenate([obs_sst_train, obs_ssh_train], axis=3)\n",
    "ip_train.shape , nino34_train.shape,ip_var.shape, nino34_var.shape"
   ]
  },
  {
   "cell_type": "code",
   "execution_count": 6,
   "metadata": {},
   "outputs": [
    {
     "data": {
      "text/plain": [
       "False"
      ]
     },
     "execution_count": 6,
     "metadata": {},
     "output_type": "execute_result"
    }
   ],
   "source": [
    "True in np.isnan(ip_train)"
   ]
  },
  {
   "cell_type": "code",
   "execution_count": 7,
   "metadata": {},
   "outputs": [],
   "source": [
    "# shuffle\n",
    "ip_train, nino34_train = shuffle(ip_train, nino34_train)"
   ]
  },
  {
   "cell_type": "code",
   "execution_count": 23,
   "metadata": {},
   "outputs": [
    {
     "name": "stdout",
     "output_type": "stream",
     "text": [
      "Model: \"ENSO\"\n",
      "__________________________________________________________________________________________________\n",
      "Layer (type)                    Output Shape         Param #     Connected to                     \n",
      "==================================================================================================\n",
      "input_3 (InputLayer)            [(None, 24, 72, 6)]  0                                            \n",
      "__________________________________________________________________________________________________\n",
      "conv2d_12 (Conv2D)              (None, 24, 72, 30)   5790        input_3[0][0]                    \n",
      "__________________________________________________________________________________________________\n",
      "batch_normalization_8 (BatchNor (None, 24, 72, 30)   120         conv2d_12[0][0]                  \n",
      "__________________________________________________________________________________________________\n",
      "activation_8 (Activation)       (None, 24, 72, 30)   0           batch_normalization_8[0][0]      \n",
      "__________________________________________________________________________________________________\n",
      "conv2d_13 (Conv2D)              (None, 24, 72, 30)   28830       activation_8[0][0]               \n",
      "__________________________________________________________________________________________________\n",
      "batch_normalization_9 (BatchNor (None, 24, 72, 30)   120         conv2d_13[0][0]                  \n",
      "__________________________________________________________________________________________________\n",
      "conv2d_14 (Conv2D)              (None, 24, 72, 30)   210         input_3[0][0]                    \n",
      "__________________________________________________________________________________________________\n",
      "add_4 (Add)                     (None, 24, 72, 30)   0           batch_normalization_9[0][0]      \n",
      "                                                                 conv2d_14[0][0]                  \n",
      "__________________________________________________________________________________________________\n",
      "activation_9 (Activation)       (None, 24, 72, 30)   0           add_4[0][0]                      \n",
      "__________________________________________________________________________________________________\n",
      "max_pooling2d_4 (MaxPooling2D)  (None, 12, 36, 30)   0           activation_9[0][0]               \n",
      "__________________________________________________________________________________________________\n",
      "conv2d_15 (Conv2D)              (None, 12, 36, 30)   28830       max_pooling2d_4[0][0]            \n",
      "__________________________________________________________________________________________________\n",
      "batch_normalization_10 (BatchNo (None, 12, 36, 30)   120         conv2d_15[0][0]                  \n",
      "__________________________________________________________________________________________________\n",
      "activation_10 (Activation)      (None, 12, 36, 30)   0           batch_normalization_10[0][0]     \n",
      "__________________________________________________________________________________________________\n",
      "conv2d_16 (Conv2D)              (None, 12, 36, 30)   28830       activation_10[0][0]              \n",
      "__________________________________________________________________________________________________\n",
      "batch_normalization_11 (BatchNo (None, 12, 36, 30)   120         conv2d_16[0][0]                  \n",
      "__________________________________________________________________________________________________\n",
      "conv2d_17 (Conv2D)              (None, 12, 36, 30)   930         max_pooling2d_4[0][0]            \n",
      "__________________________________________________________________________________________________\n",
      "add_5 (Add)                     (None, 12, 36, 30)   0           batch_normalization_11[0][0]     \n",
      "                                                                 conv2d_17[0][0]                  \n",
      "__________________________________________________________________________________________________\n",
      "activation_11 (Activation)      (None, 12, 36, 30)   0           add_5[0][0]                      \n",
      "__________________________________________________________________________________________________\n",
      "max_pooling2d_5 (MaxPooling2D)  (None, 6, 18, 30)    0           activation_11[0][0]              \n",
      "__________________________________________________________________________________________________\n",
      "flatten_2 (Flatten)             (None, 3240)         0           max_pooling2d_5[0][0]            \n",
      "__________________________________________________________________________________________________\n",
      "dense_4 (Dense)                 (None, 30)           97230       flatten_2[0][0]                  \n",
      "__________________________________________________________________________________________________\n",
      "dense_5 (Dense)                 (None, 17)           510         dense_4[0][0]                    \n",
      "==================================================================================================\n",
      "Total params: 191,640\n",
      "Trainable params: 191,400\n",
      "Non-trainable params: 240\n",
      "__________________________________________________________________________________________________\n"
     ]
    }
   ],
   "source": [
    "def convolutional_block(x, filter):\n",
    "    # copy tensor to variable called x_skip\n",
    "    x_skip = x\n",
    "    # Layer 1\n",
    "    x = tf.keras.layers.Conv2D(filter, (4, 8), padding=\"same\")(x)\n",
    "    x = tf.keras.layers.BatchNormalization(axis=3)(x)\n",
    "    x = tf.keras.layers.Activation('tanh')(x)\n",
    "    # Layer 2\n",
    "    x = tf.keras.layers.Conv2D(filter, (4, 8), padding=\"same\")(x)\n",
    "    x = tf.keras.layers.BatchNormalization(axis=3)(x)\n",
    "    # Processing Residue with conv(1,1)\n",
    "    x_skip = tf.keras.layers.Conv2D(filter, (1,1) ,padding=\"same\")(x_skip)\n",
    "    # Add Residue\n",
    "    x = tf.keras.layers.Add()([x, x_skip])     \n",
    "    x = tf.keras.layers.Activation('tanh')(x)\n",
    "    x = layers.MaxPool2D(2, 2)(x)\n",
    "    return x\n",
    "x_inp = keras.layers.Input(ip_train.shape[1:])\n",
    "x = convolutional_block(x_inp,filter=30)\n",
    "x = convolutional_block(x,filter=30)\n",
    "x = layers.Flatten()(x)\n",
    "x = keras.layers.Dense(30, activation=\"tanh\")(x)\n",
    "x = keras.layers.Dense(17,use_bias=False)(x)\n",
    "model = keras.models.Model(inputs = x_inp, outputs = x,name=\"ENSO\")\n",
    "model.summary()"
   ]
  },
  {
   "cell_type": "code",
   "execution_count": 24,
   "metadata": {},
   "outputs": [
    {
     "name": "stdout",
     "output_type": "stream",
     "text": [
      "Epoch 1/10\n",
      "108/108 [==============================] - 13s 114ms/step - loss: 0.7944 - val_loss: 0.5689\n",
      "Epoch 2/10\n",
      "108/108 [==============================] - 12s 111ms/step - loss: 0.6181 - val_loss: 0.5329\n",
      "Epoch 3/10\n",
      "108/108 [==============================] - 12s 112ms/step - loss: 0.5627 - val_loss: 0.5509\n",
      "Epoch 4/10\n",
      "108/108 [==============================] - 12s 113ms/step - loss: 0.5301 - val_loss: 0.5157\n",
      "Epoch 5/10\n",
      "108/108 [==============================] - 12s 114ms/step - loss: 0.5057 - val_loss: 0.4854\n",
      "Epoch 6/10\n",
      "108/108 [==============================] - 12s 113ms/step - loss: 0.4857 - val_loss: 0.4624\n",
      "Epoch 7/10\n",
      "108/108 [==============================] - 12s 114ms/step - loss: 0.4689 - val_loss: 0.4637\n",
      "Epoch 8/10\n",
      "108/108 [==============================] - 12s 114ms/step - loss: 0.4543 - val_loss: 0.4719\n",
      "Epoch 9/10\n",
      "108/108 [==============================] - 12s 114ms/step - loss: 0.4403 - val_loss: 0.5249\n",
      "Epoch 10/10\n",
      "108/108 [==============================] - 12s 114ms/step - loss: 0.4275 - val_loss: 0.4639\n",
      "INFO:tensorflow:Assets written to: ../data/model/resnet\\assets\n"
     ]
    },
    {
     "name": "stderr",
     "output_type": "stream",
     "text": [
      "C:\\Users\\ZiluMeng\\AppData\\Roaming\\Python\\Python37\\site-packages\\keras\\utils\\generic_utils.py:497: CustomMaskWarning: Custom mask layers require a config and must override get_config. When loading, the custom mask layer must be passed to the custom_objects argument.\n",
      "  category=CustomMaskWarning)\n"
     ]
    }
   ],
   "source": [
    "# Pre-train with Model Data\n",
    "model.compile(optimizer=keras.optimizers.SGD(), loss=\"mse\")\n",
    "early_stopping = keras.callbacks.EarlyStopping(monitor=\"val_loss\", patience=6)\n",
    "reduce_lr = keras.callbacks.ReduceLROnPlateau(monitor=\"val_loss\", patience=6)\n",
    "hist = model.fit(ip_train, nino34_train, validation_data=(ip_var, nino34_var), epochs=10, \n",
    "        batch_size=400,callbacks=[early_stopping, reduce_lr])\n",
    "model.save(\"../data/model/resnet\")"
   ]
  },
  {
   "cell_type": "code",
   "execution_count": 25,
   "metadata": {},
   "outputs": [
    {
     "data": {
      "image/png": "[encoded data removed]",
      "text/plain": [
       "<Figure size 432x288 with 1 Axes>"
      ]
     },
     "metadata": {
      "needs_background": "light"
     },
     "output_type": "display_data"
    }
   ],
   "source": [
    "def visualize_loss(history, title):\n",
    "    loss = history.history[\"loss\"]\n",
    "    val_loss = history.history[\"val_loss\"]\n",
    "    epochs = range(len(loss))\n",
    "    plt.figure()\n",
    "    plt.plot(epochs, loss, \"b\", label=\"Training loss\")\n",
    "    plt.plot(epochs, val_loss, \"r\", label=\"Validation loss\")\n",
    "    plt.title(title)\n",
    "    plt.xlabel(\"Epochs\")\n",
    "    plt.ylabel(\"Loss\")\n",
    "    plt.legend()\n",
    "    # plt.savefig('../pic/train_prog.png', dpi=300)\n",
    "    plt.show()\n",
    "\n",
    "\n",
    "visualize_loss(hist, \"Training and Validation Loss\")"
   ]
  },
  {
   "cell_type": "code",
   "execution_count": 26,
   "metadata": {},
   "outputs": [
    {
     "data": {
      "text/plain": [
       "((460, 17), (460, 17))"
      ]
     },
     "execution_count": 26,
     "metadata": {},
     "output_type": "execute_result"
    }
   ],
   "source": [
    "pre_nino = model.predict(ip_var)\n",
    "pre_nino.shape, nino34_var.shape"
   ]
  },
  {
   "cell_type": "code",
   "execution_count": 27,
   "metadata": {},
   "outputs": [
    {
     "data": {
      "text/plain": [
       "<matplotlib.lines.Line2D at 0x132a7413808>"
      ]
     },
     "execution_count": 27,
     "metadata": {},
     "output_type": "execute_result"
    },
    {
     "data": {
      "image/png": "[encoded data removed]",
      "text/plain": [
       "<Figure size 432x288 with 1 Axes>"
      ]
     },
     "metadata": {
      "needs_background": "light"
     },
     "output_type": "display_data"
    }
   ],
   "source": [
    "import scipy.stats as sts\n",
    "\n",
    "corr_ls = []\n",
    "for i in range(17):\n",
    "    corr, _ = sts.pearsonr(pre_nino[:,i], nino34_var[:,i])\n",
    "# corr\n",
    "    corr_ls.append(corr)\n",
    "plt.plot(np.arange(1, 18), corr_ls, \"o-\", color=\"blue\")\n",
    "plt.xlabel(\"lead time (month)\")\n",
    "plt.ylabel(\"correlation skill\")\n",
    "plt.axhline(0.5, color=\"k\", linestyle=\":\")"
   ]
  },
  {
   "cell_type": "code",
   "execution_count": 31,
   "metadata": {},
   "outputs": [
    {
     "data": {
      "text/plain": [
       "[<matplotlib.lines.Line2D at 0x132a703d608>]"
      ]
     },
     "execution_count": 31,
     "metadata": {},
     "output_type": "execute_result"
    },
    {
     "data": {
      "image/png": "[encoded data removed]",
      "text/plain": [
       "<Figure size 432x288 with 1 Axes>"
      ]
     },
     "metadata": {
      "needs_background": "light"
     },
     "output_type": "display_data"
    }
   ],
   "source": [
    "plt.plot(nino34_var[::12,9])\n",
    "plt.plot(pre_nino[::12,9])"
   ]
  },
  {
   "cell_type": "code",
   "execution_count": null,
   "metadata": {},
   "outputs": [],
   "source": []
  }
 ],
 "metadata": {
  "kernelspec": {
   "display_name": "Python 3.7.4 ('base')",
   "language": "python",
   "name": "python3"
  },
  "language_info": {
   "codemirror_mode": {
    "name": "ipython",
    "version": 3
   },
   "file_extension": ".py",
   "mimetype": "text/x-python",
   "name": "python",
   "nbconvert_exporter": "python",
   "pygments_lexer": "ipython3",
   "version": "3.7.4"
  },
  "orig_nbformat": 4,
  "vscode": {
   "interpreter": {
    "hash": "548d5d72f13655f56c40510a65fe4f545f8876d9a564f15949f15a94806d6179"
   }
  }
 },
 "nbformat": 4,
 "nbformat_minor": 2
}
