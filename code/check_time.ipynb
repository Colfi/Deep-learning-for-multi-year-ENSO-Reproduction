{
 "cells": [
  {
   "cell_type": "code",
   "execution_count": 1,
   "metadata": {},
   "outputs": [
    {
     "name": "stderr",
     "output_type": "stream",
     "text": [
      "d:\\anacoda\\lib\\site-packages\\ipykernel_launcher.py:31: FutureWarning: Support for multi-dimensional indexing (e.g. `obj[:, None]`) is deprecated and will be removed in a future version.  Convert to a numpy array before indexing instead.\n",
      "d:\\anacoda\\lib\\site-packages\\ipykernel_launcher.py:42: FutureWarning: Support for multi-dimensional indexing (e.g. `obj[:, None]`) is deprecated and will be removed in a future version.  Convert to a numpy array before indexing instead.\n"
     ]
    }
   ],
   "source": [
    "import numpy as np\n",
    "import pandas as pd\n",
    "time = pd.date_range(\"1980-01-01\",\"2019-11-30\",freq=\"MS\")\n",
    "def load_var(path=None, ip_len=3, op_len=17, out_put_one=False):\n",
    "    \"\"\" to load data from a path\n",
    "    Args:\n",
    "        path (str): data path \n",
    "        ip_len (int): input data length\n",
    "        op_len (int ): output data length\n",
    "\n",
    "    Returns:\n",
    "        np.ndarray\n",
    "        sst , ssh and nino3.4 index\n",
    "    \"\"\"\n",
    "\n",
    "    # build ls for concentrate\n",
    "    ip_data_ls = []\n",
    "    op_data_ls = []\n",
    "    # ip_data_ls1 = []\n",
    "    # 　read data\n",
    "    sst = time\n",
    "    # ssh = np.load(path + \"/ssh.npy\")\n",
    "    # nino34 = np.load(path + \"/nino34.npy\")\n",
    "    nino34 = time\n",
    "    # print(path.split(\"/\")[-1], \"data_shape:\", sst.shape, ssh.shape, nino34.shape)\n",
    "    # 　get data\n",
    "    for i in range(ip_len):\n",
    "        # end index of each group\n",
    "        idr = -ip_len + i + 1 - op_len if -ip_len + i + 1 - op_len != 0 else None\n",
    "        # index data\n",
    "        ip_data_sst = sst[i:idr][:,np.newaxis]\n",
    "        # ip_data_ssh = ssh[i:idr][:, :, :, np.newaxis]\n",
    "        # append\n",
    "        ip_data_ls.append(ip_data_sst)\n",
    "        # ip_data_ls1.append(ip_data_ssh)\n",
    "    for j in range(op_len):\n",
    "        # start indx\n",
    "        idl = j + ip_len\n",
    "        # end index\n",
    "        idr = -op_len + j + 1 if -op_len + j + 1 != 0 else None\n",
    "        # indx data\n",
    "        op_data = nino34[idl:idr][:, np.newaxis]\n",
    "        # append\n",
    "        op_data_ls.append(op_data)\n",
    "    # cat data\n",
    "    ip_data_ls = np.concatenate(ip_data_ls, axis=1)\n",
    "    # ip_data_ls1 = np.concatenate(ip_data_ls1, axis=1)\n",
    "    op_data_ls = np.concatenate(op_data_ls, axis=1)\n",
    "    if out_put_one is True:\n",
    "        return ip_data_ls, op_data_ls[:, -1]\n",
    "    else:\n",
    "        return ip_data_ls, op_data_ls\n",
    "sst , nino = load_var()"
   ]
  },
  {
   "cell_type": "code",
   "execution_count": 3,
   "metadata": {},
   "outputs": [
    {
     "data": {
      "text/plain": [
       "numpy.datetime64('1989-01-01T00:00:00.000000000')"
      ]
     },
     "execution_count": 3,
     "metadata": {},
     "output_type": "execute_result"
    }
   ],
   "source": [
    "nino[::12,9][8]"
   ]
  },
  {
   "cell_type": "code",
   "execution_count": 4,
   "metadata": {},
   "outputs": [
    {
     "data": {
      "text/plain": [
       "array(['1988-01-01T00:00:00.000000000', '1988-02-01T00:00:00.000000000',\n",
       "       '1988-03-01T00:00:00.000000000'], dtype='datetime64[ns]')"
      ]
     },
     "execution_count": 4,
     "metadata": {},
     "output_type": "execute_result"
    }
   ],
   "source": [
    "sst[::12][8]"
   ]
  },
  {
   "cell_type": "code",
   "execution_count": null,
   "metadata": {},
   "outputs": [],
   "source": []
  }
 ],
 "metadata": {
  "kernelspec": {
   "display_name": "Python 3.7.4 ('base')",
   "language": "python",
   "name": "python3"
  },
  "language_info": {
   "codemirror_mode": {
    "name": "ipython",
    "version": 3
   },
   "file_extension": ".py",
   "mimetype": "text/x-python",
   "name": "python",
   "nbconvert_exporter": "python",
   "pygments_lexer": "ipython3",
   "version": "3.7.4"
  },
  "orig_nbformat": 4,
  "vscode": {
   "interpreter": {
    "hash": "548d5d72f13655f56c40510a65fe4f545f8876d9a564f15949f15a94806d6179"
   }
  }
 },
 "nbformat": 4,
 "nbformat_minor": 2
}
