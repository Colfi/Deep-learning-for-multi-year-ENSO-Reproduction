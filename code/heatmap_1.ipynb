{
 "cells": [
  {
   "cell_type": "code",
   "execution_count": 1,
   "metadata": {
    "collapsed": true
   },
   "outputs": [
    {
     "name": "stdout",
     "output_type": "stream",
     "text": [
      "2.6.0\n"
     ]
    }
   ],
   "source": [
    "import tensorflow as tf\n",
    "import numpy as np\n",
    "import matplotlib.pyplot as plt\n",
    "import load_data as ld\n",
    "from tensorflow import keras\n",
    "from sklearn.utils import shuffle\n",
    "from tensorflow.keras import datasets, layers, models\n",
    "\n",
    "print(tf.__version__)"
   ]
  },
  {
   "cell_type": "code",
   "execution_count": 2,
   "outputs": [],
   "source": [
    "ip_data = np.load(\"../data/1988_lanina_ip.npy\")"
   ],
   "metadata": {
    "collapsed": false,
    "pycharm": {
     "name": "#%%\n"
    }
   }
  },
  {
   "cell_type": "code",
   "execution_count": 3,
   "outputs": [],
   "source": [
    "model = keras.models.load_model(\"../data/model/exp1_pretrain_op1_sp\")"
   ],
   "metadata": {
    "collapsed": false,
    "pycharm": {
     "name": "#%%\n"
    }
   }
  },
  {
   "cell_type": "code",
   "execution_count": 4,
   "outputs": [
    {
     "data": {
      "text/plain": "array([[-0.6021183]], dtype=float32)"
     },
     "execution_count": 4,
     "metadata": {},
     "output_type": "execute_result"
    }
   ],
   "source": [
    "model.predict(ip_data)"
   ],
   "metadata": {
    "collapsed": false,
    "pycharm": {
     "name": "#%%\n"
    }
   }
  },
  {
   "cell_type": "code",
   "execution_count": 9,
   "outputs": [
    {
     "data": {
      "text/plain": "array([[-0.40977156],\n       [-0.15387367],\n       [ 0.08207798],\n       [ 0.03053278],\n       [ 0.03291466],\n       [-0.09390629],\n       [ 0.19825979],\n       [-0.00085979],\n       [-0.00111334],\n       [-0.04646878],\n       [-0.04849915],\n       [-0.03644871],\n       [ 0.21849759],\n       [ 0.255392  ],\n       [-0.16839173],\n       [ 0.14109258],\n       [ 0.4395202 ],\n       [ 0.12562749],\n       [-0.19184175],\n       [ 0.178934  ],\n       [-0.10752026],\n       [-0.4166408 ],\n       [-0.01981817],\n       [-0.2252452 ],\n       [ 0.09864096],\n       [ 0.39955297],\n       [-0.29474655],\n       [-0.11463488],\n       [ 0.21463177],\n       [-0.19449896]], dtype=float32)"
     },
     "execution_count": 9,
     "metadata": {},
     "output_type": "execute_result"
    }
   ],
   "source": [
    "model.layers[-1].get_weights()[0]"
   ],
   "metadata": {
    "collapsed": false,
    "pycharm": {
     "name": "#%%\n"
    }
   }
  },
  {
   "cell_type": "code",
   "execution_count": 10,
   "outputs": [],
   "source": [
    "last_conv_layer_name = \"conv2d_2\"\n",
    "grad_model = tf.keras.models.Model(\n",
    "    [model.inputs], [model.get_layer(last_conv_layer_name).output, model.output]\n",
    ")"
   ],
   "metadata": {
    "collapsed": false,
    "pycharm": {
     "name": "#%%\n"
    }
   }
  },
  {
   "cell_type": "code",
   "execution_count": 37,
   "outputs": [
    {
     "data": {
      "text/plain": "TensorShape([1, 6, 18, 50])"
     },
     "execution_count": 37,
     "metadata": {},
     "output_type": "execute_result"
    }
   ],
   "source": [
    "with tf.GradientTape() as tape:\n",
    "    last_conv_layer_output, preds = grad_model(ip_data)\n",
    "    class_channel = preds[:,0]\n",
    "grads = tape.gradient(class_channel, last_conv_layer_output)\n",
    "grads.shape"
   ],
   "metadata": {
    "collapsed": false,
    "pycharm": {
     "name": "#%%\n"
    }
   }
  },
  {
   "cell_type": "code",
   "execution_count": 38,
   "outputs": [
    {
     "data": {
      "text/plain": "<tf.Tensor: shape=(50,), dtype=float32, numpy=\narray([ 2.0448503e-03, -3.4824770e-03, -1.2714398e-03,  4.4760858e-03,\n       -3.8570623e-05, -3.5271705e-03, -3.2330884e-03, -1.9473337e-03,\n        2.1241230e-03, -1.3347390e-03, -2.0740037e-03,  2.3059547e-06,\n       -4.2803790e-03,  1.4413907e-05, -1.1348238e-03,  1.9372831e-03,\n       -1.2576514e-03, -2.2965972e-03,  3.1142179e-03,  1.5556738e-03,\n        5.3568551e-04, -2.5968184e-03, -1.1218066e-03, -1.6680429e-03,\n        2.9142883e-03,  1.5696370e-03,  1.8152411e-03,  9.4721164e-04,\n        1.4891826e-03, -3.4882904e-03,  2.5607164e-03, -1.3603797e-03,\n        3.1266788e-03,  4.4288007e-03,  2.8831924e-03, -3.3071649e-04,\n        1.3483772e-03, -4.2001721e-03, -8.8951748e-04,  1.6098737e-03,\n        2.2198411e-03,  1.6372164e-03,  1.9200116e-03,  2.6397366e-04,\n       -7.1842695e-04, -1.4656618e-03,  2.5704016e-03,  4.8692551e-04,\n       -1.4665736e-03,  4.1782591e-03], dtype=float32)>"
     },
     "execution_count": 38,
     "metadata": {},
     "output_type": "execute_result"
    }
   ],
   "source": [
    "pooled_grads = tf.reduce_mean(grads, axis=(0, 1, 2))\n",
    "pooled_grads"
   ],
   "metadata": {
    "collapsed": false,
    "pycharm": {
     "name": "#%%\n"
    }
   }
  },
  {
   "cell_type": "code",
   "execution_count": 39,
   "outputs": [],
   "source": [
    "last_conv_layer_output = last_conv_layer_output[0]"
   ],
   "metadata": {
    "collapsed": false,
    "pycharm": {
     "name": "#%%\n"
    }
   }
  },
  {
   "cell_type": "code",
   "execution_count": 40,
   "outputs": [],
   "source": [
    "heatmap = last_conv_layer_output @ pooled_grads[..., tf.newaxis]"
   ],
   "metadata": {
    "collapsed": false,
    "pycharm": {
     "name": "#%%\n"
    }
   }
  },
  {
   "cell_type": "code",
   "execution_count": 41,
   "outputs": [
    {
     "data": {
      "text/plain": "<tf.Tensor: shape=(6, 18, 1), dtype=float32, numpy=\narray([[[ 2.47606472e-03],\n        [ 1.69009564e-03],\n        [ 3.54692549e-03],\n        [-1.55566388e-03],\n        [-2.23042164e-03],\n        [ 2.35093152e-03],\n        [ 7.78915710e-04],\n        [ 3.18586687e-03],\n        [ 6.87251939e-03],\n        [ 9.07693524e-04],\n        [-1.23523932e-03],\n        [ 1.75774295e-03],\n        [-1.39547861e-03],\n        [-7.69722974e-04],\n        [ 7.92387174e-04],\n        [ 1.08976918e-03],\n        [ 2.89358664e-04],\n        [ 2.63562100e-03]],\n\n       [[ 3.60022788e-03],\n        [ 6.58028480e-03],\n        [ 3.98535887e-03],\n        [ 1.43539452e-04],\n        [ 6.17054570e-03],\n        [ 4.96228226e-03],\n        [ 2.41618417e-03],\n        [-5.27309533e-03],\n        [-1.92475549e-04],\n        [-2.58792122e-03],\n        [-6.87238853e-03],\n        [-1.08919740e-02],\n        [-8.57065246e-03],\n        [-5.98861836e-03],\n        [-4.34675952e-03],\n        [-4.00406425e-05],\n        [ 1.29550649e-03],\n        [ 5.96406753e-04]],\n\n       [[-4.38493397e-03],\n        [ 1.65848865e-03],\n        [-1.45725498e-03],\n        [ 7.57807691e-04],\n        [ 9.29491501e-03],\n        [-2.28610792e-04],\n        [-7.82955997e-03],\n        [-4.01554425e-05],\n        [-2.19293777e-03],\n        [-7.08168000e-03],\n        [-3.60571640e-03],\n        [-9.27077513e-03],\n        [-1.20907538e-02],\n        [-8.67365208e-03],\n        [ 3.91035946e-03],\n        [-2.09449558e-03],\n        [-2.93555949e-03],\n        [ 2.87515530e-03]],\n\n       [[-1.80243701e-03],\n        [-4.07854794e-03],\n        [-1.50337769e-03],\n        [-1.17740870e-04],\n        [ 4.34138672e-03],\n        [ 6.65648747e-03],\n        [ 1.15535012e-03],\n        [ 1.73531170e-03],\n        [-1.57593167e-04],\n        [-1.09760615e-04],\n        [-4.28248837e-04],\n        [-1.04062946e-03],\n        [ 9.22105508e-04],\n        [-2.04571476e-03],\n        [-4.64718003e-04],\n        [-6.32737484e-03],\n        [-7.60415802e-03],\n        [-1.25607813e-03]],\n\n       [[ 1.75737601e-04],\n        [-1.92212581e-04],\n        [-6.44380169e-04],\n        [ 7.09084095e-04],\n        [ 3.52205546e-03],\n        [ 2.54921941e-03],\n        [ 6.00625761e-03],\n        [ 1.42513132e-02],\n        [ 6.03884226e-03],\n        [ 1.75602164e-03],\n        [-2.14061188e-03],\n        [ 2.75604427e-03],\n        [ 3.42898164e-03],\n        [-4.15455224e-03],\n        [-1.36756513e-03],\n        [-7.96606950e-03],\n        [ 6.07853429e-03],\n        [ 4.02574334e-03]],\n\n       [[ 1.69354712e-03],\n        [ 2.20273738e-03],\n        [ 3.24851065e-03],\n        [ 4.54504834e-03],\n        [ 1.81280111e-03],\n        [ 3.02750524e-03],\n        [ 1.38513523e-03],\n        [-1.38168549e-03],\n        [-4.81161755e-03],\n        [-4.23094444e-03],\n        [-2.25120480e-03],\n        [-1.31571680e-04],\n        [-3.54914926e-03],\n        [ 1.13125308e-03],\n        [-3.32496548e-03],\n        [ 2.74269655e-03],\n        [ 1.40503061e-03],\n        [-1.62727595e-03]]], dtype=float32)>"
     },
     "execution_count": 41,
     "metadata": {},
     "output_type": "execute_result"
    }
   ],
   "source": [
    "heatmap"
   ],
   "metadata": {
    "collapsed": false,
    "pycharm": {
     "name": "#%%\n"
    }
   }
  },
  {
   "cell_type": "code",
   "execution_count": 42,
   "outputs": [
    {
     "data": {
      "text/plain": "<tf.Tensor: shape=(6, 18), dtype=float32, numpy=\narray([[ 2.47606472e-03,  1.69009564e-03,  3.54692549e-03,\n        -1.55566388e-03, -2.23042164e-03,  2.35093152e-03,\n         7.78915710e-04,  3.18586687e-03,  6.87251939e-03,\n         9.07693524e-04, -1.23523932e-03,  1.75774295e-03,\n        -1.39547861e-03, -7.69722974e-04,  7.92387174e-04,\n         1.08976918e-03,  2.89358664e-04,  2.63562100e-03],\n       [ 3.60022788e-03,  6.58028480e-03,  3.98535887e-03,\n         1.43539452e-04,  6.17054570e-03,  4.96228226e-03,\n         2.41618417e-03, -5.27309533e-03, -1.92475549e-04,\n        -2.58792122e-03, -6.87238853e-03, -1.08919740e-02,\n        -8.57065246e-03, -5.98861836e-03, -4.34675952e-03,\n        -4.00406425e-05,  1.29550649e-03,  5.96406753e-04],\n       [-4.38493397e-03,  1.65848865e-03, -1.45725498e-03,\n         7.57807691e-04,  9.29491501e-03, -2.28610792e-04,\n        -7.82955997e-03, -4.01554425e-05, -2.19293777e-03,\n        -7.08168000e-03, -3.60571640e-03, -9.27077513e-03,\n        -1.20907538e-02, -8.67365208e-03,  3.91035946e-03,\n        -2.09449558e-03, -2.93555949e-03,  2.87515530e-03],\n       [-1.80243701e-03, -4.07854794e-03, -1.50337769e-03,\n        -1.17740870e-04,  4.34138672e-03,  6.65648747e-03,\n         1.15535012e-03,  1.73531170e-03, -1.57593167e-04,\n        -1.09760615e-04, -4.28248837e-04, -1.04062946e-03,\n         9.22105508e-04, -2.04571476e-03, -4.64718003e-04,\n        -6.32737484e-03, -7.60415802e-03, -1.25607813e-03],\n       [ 1.75737601e-04, -1.92212581e-04, -6.44380169e-04,\n         7.09084095e-04,  3.52205546e-03,  2.54921941e-03,\n         6.00625761e-03,  1.42513132e-02,  6.03884226e-03,\n         1.75602164e-03, -2.14061188e-03,  2.75604427e-03,\n         3.42898164e-03, -4.15455224e-03, -1.36756513e-03,\n        -7.96606950e-03,  6.07853429e-03,  4.02574334e-03],\n       [ 1.69354712e-03,  2.20273738e-03,  3.24851065e-03,\n         4.54504834e-03,  1.81280111e-03,  3.02750524e-03,\n         1.38513523e-03, -1.38168549e-03, -4.81161755e-03,\n        -4.23094444e-03, -2.25120480e-03, -1.31571680e-04,\n        -3.54914926e-03,  1.13125308e-03, -3.32496548e-03,\n         2.74269655e-03,  1.40503061e-03, -1.62727595e-03]], dtype=float32)>"
     },
     "execution_count": 42,
     "metadata": {},
     "output_type": "execute_result"
    }
   ],
   "source": [
    "heatmap = tf.squeeze(heatmap)\n",
    "heatmap"
   ],
   "metadata": {
    "collapsed": false,
    "pycharm": {
     "name": "#%%\n"
    }
   }
  },
  {
   "cell_type": "code",
   "execution_count": 69,
   "outputs": [
    {
     "data": {
      "text/plain": "<cartopy.mpl.feature_artist.FeatureArtist at 0x1c1eb750048>"
     },
     "execution_count": 69,
     "metadata": {},
     "output_type": "execute_result"
    },
    {
     "data": {
      "text/plain": "<Figure size 432x288 with 2 Axes>",
      "image/png": "[encoded data removed]"
     },
     "metadata": {
      "needs_background": "light"
     },
     "output_type": "display_data"
    }
   ],
   "source": [
    "import matplotlib.pyplot as plt\n",
    "import cartopy.crs as ccrs\n",
    "\n",
    "x = np.arange(0,356,5)[::4]\n",
    "y = np.arange(-55,61,5)[::4]\n",
    "ax = plt.axes(projection=ccrs.PlateCarree(central_longitude=180))\n",
    "plt.pcolor(x,y,heatmap,cmap=\"RdBu_r\",transform=ccrs.PlateCarree(),vmin=-0.015,vmax=0.015)\n",
    "plt.colorbar(extend=\"both\")\n",
    "ax.set_aspect(\"auto\")\n",
    "xtk = np.arange(-180,180,60)\n",
    "ax.set_xticks(xtk)\n",
    "ax.set_yticks(np.arange(-50,50,20),crs=ccrs.PlateCarree())\n",
    "ax.coastlines()"
   ],
   "metadata": {
    "collapsed": false,
    "pycharm": {
     "name": "#%%\n"
    }
   }
  },
  {
   "cell_type": "code",
   "execution_count": 51,
   "outputs": [
    {
     "data": {
      "text/plain": "((18,), (6,))"
     },
     "execution_count": 51,
     "metadata": {},
     "output_type": "execute_result"
    }
   ],
   "source": [
    "x = np.arange(0,356,5)[::4]\n",
    "y = np.arange(-55,61,5)[::4]\n",
    "x.shape,y.shape"
   ],
   "metadata": {
    "collapsed": false,
    "pycharm": {
     "name": "#%%\n"
    }
   }
  },
  {
   "cell_type": "code",
   "execution_count": 70,
   "outputs": [],
   "source": [
    "np.save(\"../data/heatmap_1_res\",heatmap)"
   ],
   "metadata": {
    "collapsed": false,
    "pycharm": {
     "name": "#%%\n"
    }
   }
  },
  {
   "cell_type": "code",
   "execution_count": null,
   "outputs": [],
   "source": [],
   "metadata": {
    "collapsed": false,
    "pycharm": {
     "name": "#%%\n"
    }
   }
  }
 ],
 "metadata": {
  "kernelspec": {
   "display_name": "Python 3",
   "language": "python",
   "name": "python3"
  },
  "language_info": {
   "codemirror_mode": {
    "name": "ipython",
    "version": 2
   },
   "file_extension": ".py",
   "mimetype": "text/x-python",
   "name": "python",
   "nbconvert_exporter": "python",
   "pygments_lexer": "ipython2",
   "version": "2.7.6"
  }
 },
 "nbformat": 4,
 "nbformat_minor": 0
}