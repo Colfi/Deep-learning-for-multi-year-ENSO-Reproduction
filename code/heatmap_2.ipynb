{
 "cells": [
  {
   "cell_type": "code",
   "execution_count": 30,
   "metadata": {
    "collapsed": true
   },
   "outputs": [
    {
     "name": "stdout",
     "output_type": "stream",
     "text": [
      "2.6.0\n"
     ]
    }
   ],
   "source": [
    "import tensorflow as tf\n",
    "import numpy as np\n",
    "import matplotlib.pyplot as plt\n",
    "import load_data as ld\n",
    "from tensorflow import keras\n",
    "from sklearn.utils import shuffle\n",
    "from tensorflow.keras import datasets, layers, models\n",
    "\n",
    "print(tf.__version__)"
   ]
  },
  {
   "cell_type": "code",
   "execution_count": 31,
   "outputs": [],
   "source": [
    "ip_data = np.load(\"../data/1988_lanina_ip_sp.npy\")[[7]]"
   ],
   "metadata": {
    "collapsed": false,
    "pycharm": {
     "name": "#%%\n"
    }
   }
  },
  {
   "cell_type": "code",
   "execution_count": 32,
   "outputs": [],
   "source": [
    "model = keras.models.load_model(\"../data/model/exp1_pretrain_op1_sp\")"
   ],
   "metadata": {
    "collapsed": false,
    "pycharm": {
     "name": "#%%\n"
    }
   }
  },
  {
   "cell_type": "code",
   "execution_count": 33,
   "outputs": [
    {
     "data": {
      "text/plain": "array([[-1.4238476]], dtype=float32)"
     },
     "execution_count": 33,
     "metadata": {},
     "output_type": "execute_result"
    }
   ],
   "source": [
    "model.predict(ip_data)"
   ],
   "metadata": {
    "collapsed": false,
    "pycharm": {
     "name": "#%%\n"
    }
   }
  },
  {
   "cell_type": "code",
   "execution_count": 34,
   "outputs": [
    {
     "data": {
      "text/plain": "array([[-0.16844611],\n       [ 0.09017116],\n       [-0.11765617],\n       [ 0.06599605],\n       [-0.01189968],\n       [-0.19227766],\n       [ 0.15707292],\n       [ 0.00723128],\n       [-0.06566024],\n       [ 0.10969543],\n       [ 0.08203817],\n       [-0.17395264],\n       [ 0.12070144],\n       [ 0.11735234],\n       [ 0.03886016],\n       [-0.17216425],\n       [-0.14212278],\n       [-0.14808159],\n       [-0.085887  ],\n       [ 0.25090572],\n       [ 0.13374236],\n       [-0.13756372],\n       [ 0.00140533],\n       [-0.23661229],\n       [-0.05003256],\n       [-0.09564912],\n       [-0.21188506],\n       [ 0.08842809],\n       [ 0.11627685],\n       [ 0.13928159]], dtype=float32)"
     },
     "execution_count": 34,
     "metadata": {},
     "output_type": "execute_result"
    }
   ],
   "source": [
    "model.layers[-1].get_weights()[0]"
   ],
   "metadata": {
    "collapsed": false,
    "pycharm": {
     "name": "#%%\n"
    }
   }
  },
  {
   "cell_type": "code",
   "execution_count": 35,
   "outputs": [
    {
     "name": "stdout",
     "output_type": "stream",
     "text": [
      "Model: \"model_3\"\n",
      "_________________________________________________________________\n",
      "Layer (type)                 Output Shape              Param #   \n",
      "=================================================================\n",
      "conv2d_3_input (InputLayer)  [(None, 24, 72, 6)]       0         \n",
      "_________________________________________________________________\n",
      "conv2d_3 (Conv2D)            (None, 24, 72, 30)        5790      \n",
      "_________________________________________________________________\n",
      "max_pooling2d_2 (MaxPooling2 (None, 12, 36, 30)        0         \n",
      "_________________________________________________________________\n",
      "conv2d_4 (Conv2D)            (None, 12, 36, 30)        28830     \n",
      "_________________________________________________________________\n",
      "max_pooling2d_3 (MaxPooling2 (None, 6, 18, 30)         0         \n",
      "_________________________________________________________________\n",
      "conv2d_5 (Conv2D)            (None, 6, 18, 30)         28830     \n",
      "_________________________________________________________________\n",
      "flatten_1 (Flatten)          (None, 3240)              0         \n",
      "_________________________________________________________________\n",
      "dense_2 (Dense)              (None, 30)                97230     \n",
      "_________________________________________________________________\n",
      "dense_3 (Dense)              (None, 1)                 31        \n",
      "=================================================================\n",
      "Total params: 160,711\n",
      "Trainable params: 160,711\n",
      "Non-trainable params: 0\n",
      "_________________________________________________________________\n"
     ]
    }
   ],
   "source": [
    "last_conv_layer_name = \"conv2d_5\"\n",
    "grad_model = tf.keras.models.Model(\n",
    "    [model.inputs], [model.get_layer(last_conv_layer_name).output, model.output]\n",
    ")\n",
    "grad_model.summary()"
   ],
   "metadata": {
    "collapsed": false,
    "pycharm": {
     "name": "#%%\n"
    }
   }
  },
  {
   "cell_type": "code",
   "execution_count": 36,
   "outputs": [
    {
     "data": {
      "text/plain": "(TensorShape([1, 6, 18, 30]), TensorShape([1, 1]))"
     },
     "execution_count": 36,
     "metadata": {},
     "output_type": "execute_result"
    }
   ],
   "source": [
    "with tf.GradientTape() as tape:\n",
    "    last_conv_layer_output, preds = grad_model(ip_data)\n",
    "    class_channel = preds[:,0]\n",
    "grads = tape.gradient(class_channel, last_conv_layer_output)\n",
    "grads.shape,preds.shape"
   ],
   "metadata": {
    "collapsed": false,
    "pycharm": {
     "name": "#%%\n"
    }
   }
  },
  {
   "cell_type": "code",
   "execution_count": 37,
   "outputs": [
    {
     "data": {
      "text/plain": "(TensorShape([1, 6, 18, 30]), TensorShape([30]))"
     },
     "execution_count": 37,
     "metadata": {},
     "output_type": "execute_result"
    }
   ],
   "source": [
    "pooled_grads = tf.reduce_mean(grads, axis=(0, 1, 2))\n",
    "# pooled_grads = grads\n",
    "grads.shape,pooled_grads.shape"
   ],
   "metadata": {
    "collapsed": false,
    "pycharm": {
     "name": "#%%\n"
    }
   }
  },
  {
   "cell_type": "code",
   "execution_count": 38,
   "outputs": [],
   "source": [
    "last_conv_layer_output = last_conv_layer_output[0]"
   ],
   "metadata": {
    "collapsed": false,
    "pycharm": {
     "name": "#%%\n"
    }
   }
  },
  {
   "cell_type": "code",
   "execution_count": 39,
   "outputs": [],
   "source": [
    "heatmap = last_conv_layer_output @ pooled_grads[..., tf.newaxis]"
   ],
   "metadata": {
    "collapsed": false,
    "pycharm": {
     "name": "#%%\n"
    }
   }
  },
  {
   "cell_type": "code",
   "execution_count": 40,
   "outputs": [
    {
     "data": {
      "text/plain": "TensorShape([6, 18, 1])"
     },
     "execution_count": 40,
     "metadata": {},
     "output_type": "execute_result"
    }
   ],
   "source": [
    "heatmap.shape"
   ],
   "metadata": {
    "collapsed": false,
    "pycharm": {
     "name": "#%%\n"
    }
   }
  },
  {
   "cell_type": "code",
   "execution_count": 41,
   "outputs": [
    {
     "data": {
      "text/plain": "<tf.Tensor: shape=(6, 18), dtype=float32, numpy=\narray([[ 0.0402028 ,  0.0428624 ,  0.03956685,  0.03087769,  0.02136577,\n         0.02103443,  0.01408043,  0.00288152,  0.00131249, -0.00190372,\n         0.00180271,  0.00350373,  0.00330975,  0.00356533,  0.00887081,\n         0.0077482 ,  0.00271104, -0.00425221],\n       [ 0.03384231,  0.03226887,  0.02751453,  0.01454543,  0.02062163,\n         0.02427876,  0.01399628, -0.00069607, -0.00848651, -0.0033324 ,\n        -0.00736852,  0.00644792,  0.00939355,  0.00950669,  0.01069513,\n         0.01284584,  0.01260513,  0.01360328],\n       [ 0.03105646,  0.02800278,  0.02456588,  0.01889666,  0.01077444,\n         0.01360596,  0.01079222,  0.01859947,  0.02178271,  0.02130081,\n         0.02803567,  0.0205726 ,  0.02224146,  0.02573021,  0.02049711,\n         0.01635711,  0.01271959,  0.01151167],\n       [ 0.04865666,  0.04386749,  0.03796303,  0.03489869,  0.03101378,\n         0.02745976,  0.02825006,  0.03198756,  0.02704631,  0.02483002,\n         0.02810266,  0.02927839,  0.02363377,  0.02166015,  0.0182074 ,\n         0.00552178,  0.01063985,  0.00537978],\n       [ 0.03981202,  0.03310139,  0.03011834,  0.02642821,  0.02584212,\n         0.01130764,  0.00272396,  0.00071582,  0.00176313,  0.00336893,\n         0.0014914 ,  0.00398086, -0.00093505, -0.00857496, -0.00757639,\n        -0.00074566,  0.00390501,  0.02491691],\n       [ 0.01961446,  0.01449957,  0.00773167,  0.00735874, -0.00392958,\n        -0.00878017, -0.01017303, -0.01069811, -0.01150887, -0.0119431 ,\n        -0.01190864, -0.01046245, -0.00747504, -0.00684582, -0.0097996 ,\n        -0.01262064, -0.01605149, -0.00725579]], dtype=float32)>"
     },
     "execution_count": 41,
     "metadata": {},
     "output_type": "execute_result"
    }
   ],
   "source": [
    "heatmap = tf.squeeze(heatmap)\n",
    "heatmap"
   ],
   "metadata": {
    "collapsed": false,
    "pycharm": {
     "name": "#%%\n"
    }
   }
  },
  {
   "cell_type": "code",
   "execution_count": 46,
   "outputs": [
    {
     "data": {
      "text/plain": "<cartopy.mpl.feature_artist.FeatureArtist at 0x1ee7aac18c8>"
     },
     "execution_count": 46,
     "metadata": {},
     "output_type": "execute_result"
    },
    {
     "data": {
      "text/plain": "<Figure size 432x288 with 2 Axes>",
      "image/png": "[encoded data removed]"
     },
     "metadata": {
      "needs_background": "light"
     },
     "output_type": "display_data"
    }
   ],
   "source": [
    "import matplotlib.pyplot as plt\n",
    "import cartopy.crs as ccrs\n",
    "\n",
    "x = np.arange(0,356,5)[::4]\n",
    "y = np.arange(-55,61,5)[::4]\n",
    "x1 = np.arange(0, 356, 5)\n",
    "y1 = np.arange(-55, 61, 5)\n",
    "ax = plt.axes(projection=ccrs.PlateCarree(central_longitude=180))\n",
    "draw_s = np.copy(ip_data[0, :, :, 1])\n",
    "draw_s[draw_s == 0] = np.NAN\n",
    "\n",
    "plt.pcolor(x,y,heatmap,cmap=\"Reds\",transform=ccrs.PlateCarree())\n",
    "# m = ax.contour(x1, y1, draw_s, transform=ccrs.PlateCarree(),levels=np.linspace(-5,5,13),colors='k')\n",
    "# ax.clabel(m, fmt=\"%.2f\")\n",
    "plt.colorbar(extend=\"both\")\n",
    "ax.set_aspect(\"auto\")\n",
    "xtk = np.arange(-180,180,60)\n",
    "ax.set_xticks(xtk,crs=ccrs.PlateCarree())\n",
    "ax.set_yticks(np.arange(-50,50,20),crs=ccrs.PlateCarree())\n",
    "ax.coastlines()"
   ],
   "metadata": {
    "collapsed": false,
    "pycharm": {
     "name": "#%%\n"
    }
   }
  },
  {
   "cell_type": "code",
   "execution_count": 51,
   "outputs": [
    {
     "data": {
      "text/plain": "((18,), (6,))"
     },
     "execution_count": 51,
     "metadata": {},
     "output_type": "execute_result"
    }
   ],
   "source": [
    "x = np.arange(0,356,5)[::4]\n",
    "y = np.arange(-55,61,5)[::4]\n",
    "x.shape,y.shape"
   ],
   "metadata": {
    "collapsed": false,
    "pycharm": {
     "name": "#%%\n"
    }
   }
  },
  {
   "cell_type": "code",
   "execution_count": 70,
   "outputs": [],
   "source": [
    "# np.save(\"../data/heatmap_1_res\",heatmap)"
   ],
   "metadata": {
    "collapsed": false,
    "pycharm": {
     "name": "#%%\n"
    }
   }
  },
  {
   "cell_type": "code",
   "execution_count": null,
   "outputs": [],
   "source": [],
   "metadata": {
    "collapsed": false,
    "pycharm": {
     "name": "#%%\n"
    }
   }
  }
 ],
 "metadata": {
  "kernelspec": {
   "display_name": "Python 3",
   "language": "python",
   "name": "python3"
  },
  "language_info": {
   "codemirror_mode": {
    "name": "ipython",
    "version": 2
   },
   "file_extension": ".py",
   "mimetype": "text/x-python",
   "name": "python",
   "nbconvert_exporter": "python",
   "pygments_lexer": "ipython2",
   "version": "2.7.6"
  }
 },
 "nbformat": 4,
 "nbformat_minor": 0
}