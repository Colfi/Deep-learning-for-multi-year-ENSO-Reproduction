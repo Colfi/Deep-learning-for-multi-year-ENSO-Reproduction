{
 "cells": [
  {
   "cell_type": "code",
   "execution_count": 1,
   "metadata": {},
   "outputs": [],
   "source": [
    "import numpy as np\n",
    "import os"
   ]
  },
  {
   "cell_type": "code",
   "execution_count": 8,
   "metadata": {},
   "outputs": [
    {
     "name": "stdout",
     "output_type": "stream",
     "text": [
      "data_shape: (480, 24, 72) (480, 24, 72) (480,)\n"
     ]
    },
    {
     "data": {
      "text/plain": [
       "((458, 24, 72, 3), (458, 20), (458, 24, 72, 3))"
      ]
     },
     "execution_count": 8,
     "metadata": {},
     "output_type": "execute_result"
    }
   ],
   "source": [
    "def load_var(path, ip_len, op_len):\n",
    "    ip_data_ls = []\n",
    "    op_data_ls = []\n",
    "    ip_data_ls1 = []\n",
    "    sst = np.load(path + \"/sst.npy\")\n",
    "    ssh = np.load(path + \"/ssh.npy\")\n",
    "    nino34 = np.load(path + \"/nino34.npy\")\n",
    "    print(\"data_shape:\",sst.shape,ssh.shape,nino34.shape)\n",
    "    for i in range(ip_len):\n",
    "        idr = -ip_len + i + 1 - op_len if -ip_len + i + 1 - op_len != 0 else None\n",
    "        ip_data_sst = sst[i:idr][:, :, :, np.newaxis]\n",
    "        ip_data_ssh = ssh[i:idr][:, :, :, np.newaxis]\n",
    "        ip_data_ls.append(ip_data_sst)\n",
    "        ip_data_ls1.append(ip_data_ssh)\n",
    "    for j in range(op_len):\n",
    "        idl = j + ip_len\n",
    "        idr = -op_len + j + 1 if -op_len + j + 1 != 0 else None\n",
    "        op_data = nino34[idl:idr][:, np.newaxis]\n",
    "        op_data_ls.append(op_data)\n",
    "    ip_data_ls = np.concatenate(ip_data_ls, axis=3)\n",
    "    ip_data_ls1 = np.concatenate(ip_data_ls1, axis=3)\n",
    "    op_data_ls = np.concatenate(op_data_ls, axis=1)\n",
    "    return ip_data_ls, ip_data_ls1, op_data_ls\n",
    "\n",
    "\n",
    "ip_data_ls,ip_data_ls1, op_data_ls = load_var(\"../data/var_data\", 3, 20)\n",
    "ip_data_ls.shape, op_data_ls.shape,ip_data_ls1.shape\n"
   ]
  },
  {
   "cell_type": "code",
   "execution_count": null,
   "metadata": {},
   "outputs": [],
   "source": []
  }
 ],
 "metadata": {
  "kernelspec": {
   "display_name": "Python 3.9.12 ('base')",
   "language": "python",
   "name": "python3"
  },
  "language_info": {
   "codemirror_mode": {
    "name": "ipython",
    "version": 3
   },
   "file_extension": ".py",
   "mimetype": "text/x-python",
   "name": "python",
   "nbconvert_exporter": "python",
   "pygments_lexer": "ipython3",
   "version": "3.9.12"
  },
  "orig_nbformat": 4,
  "vscode": {
   "interpreter": {
    "hash": "d9650bf475f579d5a6ad4ca47bb77593c01ffca6cdcbae5b254376cbd497ff8d"
   }
  }
 },
 "nbformat": 4,
 "nbformat_minor": 2
}
