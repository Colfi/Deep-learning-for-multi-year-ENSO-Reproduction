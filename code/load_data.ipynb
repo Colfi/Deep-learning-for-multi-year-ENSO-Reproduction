{
 "cells": [
  {
   "cell_type": "code",
   "execution_count": 1,
   "metadata": {},
   "outputs": [],
   "source": [
    "import numpy as np\n",
    "import os"
   ]
  },
  {
   "cell_type": "code",
   "execution_count": 2,
   "metadata": {},
   "outputs": [
    {
     "name": "stdout",
     "output_type": "stream",
     "text": [
      "data_shape: (479, 24, 72) (479, 24, 72) (479,)\n"
     ]
    },
    {
     "data": {
      "text/plain": [
       "((457, 24, 72, 3), (457, 20), (457, 24, 72, 3))"
      ]
     },
     "execution_count": 2,
     "metadata": {},
     "output_type": "execute_result"
    }
   ],
   "source": [
    "def load_var(path, ip_len, op_len):\n",
    "    ip_data_ls = []\n",
    "    op_data_ls = []\n",
    "    ip_data_ls1 = []\n",
    "    sst = np.load(path + \"/sst.npy\")\n",
    "    ssh = np.load(path + \"/ssh.npy\")\n",
    "    nino34 = np.load(path + \"/nino34.npy\")\n",
    "    print(\"data_shape:\",sst.shape,ssh.shape,nino34.shape)\n",
    "    for i in range(ip_len):\n",
    "        idr = -ip_len + i + 1 - op_len if -ip_len + i + 1 - op_len != 0 else None\n",
    "        ip_data_sst = sst[i:idr][:, :, :, np.newaxis]\n",
    "        ip_data_ssh = ssh[i:idr][:, :, :, np.newaxis]\n",
    "        ip_data_ls.append(ip_data_sst)\n",
    "        ip_data_ls1.append(ip_data_ssh)\n",
    "    for j in range(op_len):\n",
    "        idl = j + ip_len\n",
    "        idr = -op_len + j + 1 if -op_len + j + 1 != 0 else None\n",
    "        op_data = nino34[idl:idr][:, np.newaxis]\n",
    "        op_data_ls.append(op_data)\n",
    "    ip_data_ls = np.concatenate(ip_data_ls, axis=3)\n",
    "    ip_data_ls1 = np.concatenate(ip_data_ls1, axis=3)\n",
    "    op_data_ls = np.concatenate(op_data_ls, axis=1)\n",
    "    return ip_data_ls, ip_data_ls1, op_data_ls\n",
    "\n",
    "\n",
    "ip_data_ls,ip_data_ls1, op_data_ls = load_var(\"../data/var_data\", 3, 20)\n",
    "ip_data_ls.shape, op_data_ls.shape,ip_data_ls1.shape\n"
   ]
  },
  {
   "cell_type": "code",
   "execution_count": 3,
   "metadata": {},
   "outputs": [
    {
     "data": {
      "text/plain": [
       "10"
      ]
     },
     "execution_count": 3,
     "metadata": {},
     "output_type": "execute_result"
    }
   ],
   "source": [
    "import numpy as np\n",
    "import pandas as pd\n",
    "month_idx =  pd.date_range(\"1900-02-01\",\"1930-12-30\",freq=\"MS\")\n",
    "month_idx\n",
    "ip_len=3\n",
    "op_len=13\n",
    "nino_month=1\n",
    "\n",
    "ip_st_month = (nino_month - op_len - ip_len)%12 + 1\n",
    "# 9 10 11\n",
    "ip_st_month"
   ]
  },
  {
   "cell_type": "code",
   "execution_count": 4,
   "metadata": {},
   "outputs": [
    {
     "data": {
      "text/plain": [
       "8"
      ]
     },
     "execution_count": 4,
     "metadata": {},
     "output_type": "execute_result"
    }
   ],
   "source": [
    "ip_st_idx = ip_st_month - 2\n",
    "ip_st_idx"
   ]
  },
  {
   "cell_type": "code",
   "execution_count": 5,
   "metadata": {},
   "outputs": [
    {
     "data": {
      "text/plain": [
       "DatetimeIndex(['1900-10-01', '1900-11-01', '1900-12-01'], dtype='datetime64[ns]', freq='MS')"
      ]
     },
     "execution_count": 5,
     "metadata": {},
     "output_type": "execute_result"
    }
   ],
   "source": [
    "month_idx[ip_st_idx:ip_st_idx+ip_len]"
   ]
  },
  {
   "cell_type": "code",
   "execution_count": 6,
   "metadata": {},
   "outputs": [
    {
     "data": {
      "text/plain": [
       "Timestamp('1902-01-01 00:00:00', freq='MS')"
      ]
     },
     "execution_count": 6,
     "metadata": {},
     "output_type": "execute_result"
    }
   ],
   "source": [
    "month_idx[ip_st_idx+ip_len+op_len-1]"
   ]
  },
  {
   "cell_type": "code",
   "execution_count": 7,
   "metadata": {},
   "outputs": [],
   "source": [
    "# for idx in range(month_idx.shape[0]):\n",
    "idx_begin = 9 -2\n",
    "idx_nino1 = idx_begin + op_len + 3\n",
    "month_idx[idx_begin],month_idx[idx_nino1]\n",
    "idx_begin2 = idx_begin + 12\n",
    "idx_nino2 = idx_nino1 + 12\n"
   ]
  },
  {
   "cell_type": "code",
   "execution_count": 8,
   "metadata": {},
   "outputs": [
    {
     "data": {
      "text/plain": [
       "(Timestamp('1901-09-01 00:00:00', freq='MS'),\n",
       " Timestamp('1903-01-01 00:00:00', freq='MS'))"
      ]
     },
     "execution_count": 8,
     "metadata": {},
     "output_type": "execute_result"
    }
   ],
   "source": [
    "month_idx[idx_begin2],month_idx[idx_nino2]"
   ]
  },
  {
   "cell_type": "code",
   "execution_count": 39,
   "metadata": {},
   "outputs": [
    {
     "name": "stdout",
     "output_type": "stream",
     "text": [
      "2\n",
      "(38,)\n",
      "2\n",
      "(38,)\n",
      "2\n",
      "(38,)\n",
      "DatetimeIndex(['1851-12-01', '1852-12-01', '1853-12-01', '1854-12-01',\n",
      "               '1855-12-01', '1856-12-01', '1857-12-01', '1858-12-01',\n",
      "               '1859-12-01', '1860-12-01', '1861-12-01', '1862-12-01',\n",
      "               '1863-12-01', '1864-12-01', '1865-12-01', '1866-12-01',\n",
      "               '1867-12-01', '1868-12-01', '1869-12-01', '1870-12-01',\n",
      "               '1871-12-01', '1872-12-01', '1873-12-01', '1874-12-01',\n",
      "               '1875-12-01', '1876-12-01', '1877-12-01', '1878-12-01',\n",
      "               '1879-12-01', '1880-12-01', '1881-12-01', '1882-12-01',\n",
      "               '1883-12-01', '1884-12-01', '1885-12-01', '1886-12-01',\n",
      "               '1887-12-01', '1888-12-01'],\n",
      "              dtype='datetime64[ns]', freq='12MS')\n",
      "['1887-09-01T00:00:00.000000000' '1887-10-01T00:00:00.000000000'\n",
      " '1887-11-01T00:00:00.000000000'] 1888-12-01 00:00:00\n",
      "(38, 3) (38,)\n"
     ]
    },
    {
     "name": "stderr",
     "output_type": "stream",
     "text": [
      "/tmp/ipykernel_5013/3522120182.py:23: FutureWarning: Support for multi-dimensional indexing (e.g. `obj[:, None]`) is deprecated and will be removed in a future version.  Convert to a numpy array before indexing instead.\n",
      "  ip_data_ls.append(ip_data[...,np.newaxis])\n"
     ]
    }
   ],
   "source": [
    "# month_idx =  pd.date_range(\"1850-01-01\",\"2014-11-30\",freq=\"MS\")\n",
    "month_idx =  pd.date_range(\"1850-01-01\",\"1889-11-30\",freq=\"MS\")\n",
    "def load_data(ip_len=3, op_len=13, nino_month=1, label=\"noVar\"):\n",
    "    if label == \"noVar\":\n",
    "        bg_month = 2\n",
    "    else:\n",
    "        bg_month = 1\n",
    "    ip_st_month = (nino_month - op_len - ip_len) % 12 + 1\n",
    "    idx_begin = ip_st_month - bg_month\n",
    "    nino_idx_begin = idx_begin + ip_len + op_len -1\n",
    "    N = month_idx.shape[0]\n",
    "    gap_year = np.abs((nino_month - op_len - ip_len) // 12)\n",
    "    ip_data_ls = []\n",
    "    op_data_ls = month_idx[nino_idx_begin::12]\n",
    "    # print(gap_year)\n",
    "    for eh in range(ip_len):\n",
    "        ip_data = month_idx[idx_begin+eh::12]\n",
    "        diff_len = ip_data.shape[0] - op_data_ls.shape[0]\n",
    "        print(diff_len)\n",
    "        if diff_len != 0:\n",
    "            ip_data = ip_data[:-diff_len]\n",
    "        print(ip_data.shape)\n",
    "        ip_data_ls.append(ip_data[...,np.newaxis])\n",
    "    ip_data_ls = np.concatenate(ip_data_ls,axis=-1)\n",
    "    print(op_data_ls)\n",
    "    return ip_data_ls,op_data_ls\n",
    "ip_data_ls,op_data_ls = load_data()\n",
    "print(ip_data_ls[-1],op_data_ls[-1])\n",
    "print(ip_data_ls.shape,op_data_ls.shape)\n",
    "# print(month_idx)"
   ]
  },
  {
   "cell_type": "code",
   "execution_count": 37,
   "metadata": {},
   "outputs": [
    {
     "data": {
      "text/plain": [
       "DatetimeIndex(['1850-01-01', '1850-02-01', '1850-03-01', '1850-04-01',\n",
       "               '1850-05-01', '1850-06-01', '1850-07-01', '1850-08-01',\n",
       "               '1850-09-01', '1850-10-01',\n",
       "               ...\n",
       "               '1889-02-01', '1889-03-01', '1889-04-01', '1889-05-01',\n",
       "               '1889-06-01', '1889-07-01', '1889-08-01', '1889-09-01',\n",
       "               '1889-10-01', '1889-11-01'],\n",
       "              dtype='datetime64[ns]', length=479, freq='MS')"
      ]
     },
     "execution_count": 37,
     "metadata": {},
     "output_type": "execute_result"
    }
   ],
   "source": [
    "month_idx =  pd.date_range(\"1850-01-01\",\"1889-11-30\",freq=\"MS\")\n",
    "month_idx"
   ]
  },
  {
   "cell_type": "code",
   "execution_count": null,
   "metadata": {},
   "outputs": [],
   "source": []
  },
  {
   "cell_type": "code",
   "execution_count": null,
   "metadata": {},
   "outputs": [],
   "source": []
  }
 ],
 "metadata": {
  "kernelspec": {
   "display_name": "Python 3.9.12 ('base')",
   "language": "python",
   "name": "python3"
  },
  "language_info": {
   "codemirror_mode": {
    "name": "ipython",
    "version": 3
   },
   "file_extension": ".py",
   "mimetype": "text/x-python",
   "name": "python",
   "nbconvert_exporter": "python",
   "pygments_lexer": "ipython3",
   "version": "3.9.12"
  },
  "orig_nbformat": 4,
  "vscode": {
   "interpreter": {
    "hash": "d9650bf475f579d5a6ad4ca47bb77593c01ffca6cdcbae5b254376cbd497ff8d"
   }
  }
 },
 "nbformat": 4,
 "nbformat_minor": 2
}
